{
 "cells": [
  {
   "cell_type": "markdown",
   "metadata": {},
   "source": [
    "# The Boston Qualifier Questionaire: Data Pipleline and Analysis"
   ]
  },
  {
   "cell_type": "markdown",
   "metadata": {},
   "source": [
    "The Boston Marathon is one of the most popular races in world. Starting in 1897, the race has drawn elite and amateur runners every year to complete the infamous 26.2 miles. \n",
    "\n",
    "For runners of all skill levels, qualifing to enter the Boston Marathon is a major accomplishment that takes dedication to achieve. In 2019, the qualifying time for men aged 18-34 was 3hrs 00mins 08secs and for women was 3hrs 30mins 08secs. That's an average mile time of 6:53 and 8:01 respectively over the 26.2 miles. These times seem unimaginable for the non-runner, but these times are designed to be achievable for non-elite runners. The Boston Athletic Association aims to allow the top 5-10% of runners to qualify for the race, but how much training is required to achieve a Boston Qualifing time?\n",
    "\n",
    "The data for this analysis was obtained from miloandthecalf.com. For the past several years, the site has hosted a questionnaire for athletes that have qualified for the Boston for the first time. This will allow insight into the training habits required to qualify for the race.\n",
    "\n",
    "First, I'll walk through the full pipeline used to extract and clean the data. Then I'll show how to load and extract the cleaned data from my database. Finally, I'll analyze the data and showcase any findings."
   ]
  },
  {
   "cell_type": "markdown",
   "metadata": {},
   "source": [
    "## Table of contents"
   ]
  },
  {
   "cell_type": "markdown",
   "metadata": {},
   "source": [
    "## Extract from Data Source"
   ]
  },
  {
   "cell_type": "code",
   "execution_count": 91,
   "metadata": {},
   "outputs": [],
   "source": [
    "import pandas as pd\n",
    "pd.options.mode.chained_assignment = None  # default='warn'\n",
    "import numpy as np\n",
    "import matplotlib.pyplot as plt\n",
    "import seaborn as sns\n",
    "sns.set_style('whitegrid')\n",
    "import numpy\n",
    "import requests\n",
    "import io\n",
    "\n",
    "import psycopg2\n",
    "from sqlalchemy import create_engine\n",
    "import time"
   ]
  },
  {
   "cell_type": "code",
   "execution_count": 2,
   "metadata": {},
   "outputs": [],
   "source": [
    "from loadextract import *"
   ]
  },
  {
   "cell_type": "code",
   "execution_count": 3,
   "metadata": {},
   "outputs": [],
   "source": [
    "#response = requests.get('https://docs.google.com/spreadsheet/ccc?key=0ArM5yzzCw9IZdEdLWlpHT1FCcUpYQ2RjWmZYWmNwbXc&output=csv')\n",
    "#assert response.status_code == 200, 'Wrong status code'"
   ]
  },
  {
   "cell_type": "code",
   "execution_count": 4,
   "metadata": {},
   "outputs": [],
   "source": [
    "response = requests.get('https://docs.google.com/spreadsheets/d/1yc2jk2zv7iSTBSZd_FIU2zNarJ61-GxZTGEs4xr2F_A/export?format=csv')\n",
    "assert response.status_code == 200, 'Wrong status code'"
   ]
  },
  {
   "cell_type": "code",
   "execution_count": 5,
   "metadata": {},
   "outputs": [],
   "source": [
    "urlData = response.content"
   ]
  },
  {
   "cell_type": "code",
   "execution_count": 6,
   "metadata": {},
   "outputs": [],
   "source": [
    "df = pd.read_csv(io.StringIO(urlData.decode('utf-8')),header=2)"
   ]
  },
  {
   "cell_type": "markdown",
   "metadata": {},
   "source": [
    "## Clean Data"
   ]
  },
  {
   "cell_type": "code",
   "execution_count": 7,
   "metadata": {},
   "outputs": [
    {
     "name": "stdout",
     "output_type": "stream",
     "text": [
      "<class 'pandas.core.frame.DataFrame'>\n",
      "RangeIndex: 376 entries, 0 to 375\n",
      "Data columns (total 20 columns):\n",
      " #   Column                                                                    Non-Null Count  Dtype  \n",
      "---  ------                                                                    --------------  -----  \n",
      " 0   Name                                                                      376 non-null    object \n",
      " 1   Sex:                                                                      376 non-null    object \n",
      " 2   Age (at the time of first BQ):                                            376 non-null    float64\n",
      " 3   Height (in inches):                                                       374 non-null    float64\n",
      " 4   Weight (in lbs at the time of first BQ):                                  372 non-null    float64\n",
      " 5   BMI                                                                       370 non-null    float64\n",
      " 6   At which marathon did you get your first BQ?                              374 non-null    object \n",
      " 7   How long had you been running when you ran your first BQ?                 363 non-null    object \n",
      " 8   Did you run in college or high school?                                    373 non-null    object \n",
      " 9   What was your approximate lifetime mileage at the time of your first BQ?  319 non-null    object \n",
      " 10  How many miles did you run in the year before your first BQ?              329 non-null    object \n",
      " 11  Approximately how many races did you run in that year?                    364 non-null    float64\n",
      " 12  Did you follow a canned program?                                          373 non-null    object \n",
      " 13  Which one?                                                                113 non-null    object \n",
      " 14  Did Speed work play a role?                                               350 non-null    object \n",
      " 15  What kind?                                                                210 non-null    object \n",
      " 16  Did cross training play a role in your training? If so, how?              373 non-null    object \n",
      " 17  What type of cross training                                               164 non-null    object \n",
      " 18  Did you run with a running club or utilize a coach?                       373 non-null    object \n",
      " 19  Want to read more?                                                        333 non-null    object \n",
      "dtypes: float64(5), object(15)\n",
      "memory usage: 58.9+ KB\n"
     ]
    }
   ],
   "source": [
    "df.info()"
   ]
  },
  {
   "cell_type": "markdown",
   "metadata": {},
   "source": [
    "All features will need to be renamed for convenience and some unneeded features will be removed. \n",
    "\n",
    "There are 376 total entries and most features contain nulls. Each feature will need to be analyzed to remove nulls and clean any inconsistent values. "
   ]
  },
  {
   "cell_type": "code",
   "execution_count": 8,
   "metadata": {},
   "outputs": [],
   "source": [
    "df = df.drop(['Name','Want to read more?'],axis=1)"
   ]
  },
  {
   "cell_type": "code",
   "execution_count": 9,
   "metadata": {},
   "outputs": [],
   "source": [
    "df = df.rename(columns={'Sex:':'Sex',\n",
    "                   'Age (at the time of first BQ):':'Age',\n",
    "                   'Height (in inches):':'Height',\n",
    "                   'Weight (in lbs at the time of first BQ):':'Weight',\n",
    "                   'At which marathon did you get your first BQ? ':'First_Marathon',\n",
    "                   'How long had you been running when you ran your first BQ? ':'Years_Running',\n",
    "                   'Did you run in college or high school?':'School_Running',\n",
    "                   'What was your approximate lifetime mileage at the time of your first BQ?':'Lifetime_Mileage',\n",
    "                   'How many miles did you run in the year before your first BQ?':'Year_Mileage',\n",
    "                   'Approximately how many races did you run in that year?':'Amount_of_Races',\n",
    "                   'Did you follow a canned program? ':'Running_Program',\n",
    "                   'Which one?':'Running_Program_Used',\n",
    "                   'Did Speed work play a role?':'Speed_Work',\n",
    "                   'What kind?':'Speed_Work_Used',\n",
    "                   'Did cross training play a role in your training? If so, how?':'Cross_Training',\n",
    "                   'What type of cross training':'Cross_Training_Used',\n",
    "                   'Did you run with a running club or utilize a coach?':'Running_Club_or_Coach'})"
   ]
  },
  {
   "cell_type": "markdown",
   "metadata": {},
   "source": [
    "Next, we'll go through each feature to identify any issues with the data that need fixed."
   ]
  },
  {
   "cell_type": "markdown",
   "metadata": {},
   "source": [
    "Add Runner_Id for each and set as index"
   ]
  },
  {
   "cell_type": "code",
   "execution_count": 10,
   "metadata": {},
   "outputs": [],
   "source": [
    "df.reset_index(inplace=True)"
   ]
  },
  {
   "cell_type": "markdown",
   "metadata": {},
   "source": [
    "#### Sex"
   ]
  },
  {
   "cell_type": "code",
   "execution_count": 11,
   "metadata": {},
   "outputs": [],
   "source": [
    "df['Sex'] = df['Sex'].astype(str)"
   ]
  },
  {
   "cell_type": "markdown",
   "metadata": {},
   "source": [
    "There are values entered upper and lower cased. Change these values to 'Male' and 'Female'."
   ]
  },
  {
   "cell_type": "code",
   "execution_count": 12,
   "metadata": {},
   "outputs": [],
   "source": [
    "df['Sex'].replace('m','M',inplace=True)\n",
    "df['Sex'].replace('M','Male',inplace=True)\n",
    "df['Sex'].replace('f','F',inplace=True)\n",
    "df['Sex'].replace('F','Female',inplace=True)"
   ]
  },
  {
   "cell_type": "markdown",
   "metadata": {},
   "source": [
    "#### Age"
   ]
  },
  {
   "cell_type": "code",
   "execution_count": 13,
   "metadata": {},
   "outputs": [],
   "source": [
    "df['Age'] = df['Age'].astype(int)"
   ]
  },
  {
   "cell_type": "markdown",
   "metadata": {},
   "source": [
    "#### BMI"
   ]
  },
  {
   "cell_type": "code",
   "execution_count": 14,
   "metadata": {},
   "outputs": [],
   "source": [
    "df['BMI'] = df['BMI'].round()"
   ]
  },
  {
   "cell_type": "code",
   "execution_count": 15,
   "metadata": {},
   "outputs": [
    {
     "data": {
      "text/html": [
       "<div>\n",
       "<style scoped>\n",
       "    .dataframe tbody tr th:only-of-type {\n",
       "        vertical-align: middle;\n",
       "    }\n",
       "\n",
       "    .dataframe tbody tr th {\n",
       "        vertical-align: top;\n",
       "    }\n",
       "\n",
       "    .dataframe thead th {\n",
       "        text-align: right;\n",
       "    }\n",
       "</style>\n",
       "<table border=\"1\" class=\"dataframe\">\n",
       "  <thead>\n",
       "    <tr style=\"text-align: right;\">\n",
       "      <th></th>\n",
       "      <th>index</th>\n",
       "      <th>Sex</th>\n",
       "      <th>Age</th>\n",
       "      <th>Height</th>\n",
       "      <th>Weight</th>\n",
       "      <th>BMI</th>\n",
       "      <th>First_Marathon</th>\n",
       "      <th>Years_Running</th>\n",
       "      <th>School_Running</th>\n",
       "      <th>Lifetime_Mileage</th>\n",
       "      <th>Year_Mileage</th>\n",
       "      <th>Amount_of_Races</th>\n",
       "      <th>Running_Program</th>\n",
       "      <th>Running_Program_Used</th>\n",
       "      <th>Speed_Work</th>\n",
       "      <th>Speed_Work_Used</th>\n",
       "      <th>Cross_Training</th>\n",
       "      <th>Cross_Training_Used</th>\n",
       "      <th>Running_Club_or_Coach</th>\n",
       "    </tr>\n",
       "  </thead>\n",
       "  <tbody>\n",
       "    <tr>\n",
       "      <th>236</th>\n",
       "      <td>236</td>\n",
       "      <td>Male</td>\n",
       "      <td>24</td>\n",
       "      <td>38.0</td>\n",
       "      <td>145.0</td>\n",
       "      <td>71.0</td>\n",
       "      <td>Chicago</td>\n",
       "      <td>9</td>\n",
       "      <td>y</td>\n",
       "      <td>15000</td>\n",
       "      <td>2000</td>\n",
       "      <td>10.0</td>\n",
       "      <td>n</td>\n",
       "      <td>NaN</td>\n",
       "      <td>n</td>\n",
       "      <td>NaN</td>\n",
       "      <td>n</td>\n",
       "      <td>NaN</td>\n",
       "      <td>n</td>\n",
       "    </tr>\n",
       "    <tr>\n",
       "      <th>284</th>\n",
       "      <td>284</td>\n",
       "      <td>Male</td>\n",
       "      <td>48</td>\n",
       "      <td>61.0</td>\n",
       "      <td>175.0</td>\n",
       "      <td>33.0</td>\n",
       "      <td>RNR DC</td>\n",
       "      <td>3</td>\n",
       "      <td>y</td>\n",
       "      <td>NaN</td>\n",
       "      <td>NaN</td>\n",
       "      <td>2.0</td>\n",
       "      <td>n</td>\n",
       "      <td>NaN</td>\n",
       "      <td>y</td>\n",
       "      <td>tempo</td>\n",
       "      <td>y</td>\n",
       "      <td>NaN</td>\n",
       "      <td>y</td>\n",
       "    </tr>\n",
       "  </tbody>\n",
       "</table>\n",
       "</div>"
      ],
      "text/plain": [
       "     index   Sex  Age  Height  Weight   BMI First_Marathon Years_Running  \\\n",
       "236    236  Male   24    38.0   145.0  71.0        Chicago             9   \n",
       "284    284  Male   48    61.0   175.0  33.0         RNR DC             3   \n",
       "\n",
       "    School_Running Lifetime_Mileage Year_Mileage  Amount_of_Races  \\\n",
       "236              y            15000         2000             10.0   \n",
       "284              y              NaN          NaN              2.0   \n",
       "\n",
       "    Running_Program Running_Program_Used Speed_Work Speed_Work_Used  \\\n",
       "236               n                  NaN          n             NaN   \n",
       "284               n                  NaN          y           tempo   \n",
       "\n",
       "    Cross_Training Cross_Training_Used Running_Club_or_Coach  \n",
       "236              n                 NaN                     n  \n",
       "284              y                 NaN                     y  "
      ]
     },
     "execution_count": 15,
     "metadata": {},
     "output_type": "execute_result"
    }
   ],
   "source": [
    "df[df['BMI'] > 30]"
   ]
  },
  {
   "cell_type": "markdown",
   "metadata": {},
   "source": [
    "These two BMIs are suspiciously high. When looking at the full data, it's due low heights and more average weights. When double checking these two rows against the source website, the heights are in fact incorrect. These are the only two points in the dataset that were found to have been incorrect.\n",
    "\n",
    "We'll fix these two entries with the correct height values and corresponding BMI."
   ]
  },
  {
   "cell_type": "code",
   "execution_count": 16,
   "metadata": {},
   "outputs": [],
   "source": [
    "df.loc[236,'Height'] = 68\n",
    "df.loc[236,'BMI'] = 22\n",
    "df.loc[284,'Height'] = 73\n",
    "df.loc[284,'BMI'] = 23"
   ]
  },
  {
   "cell_type": "markdown",
   "metadata": {},
   "source": [
    "#### First Marathon"
   ]
  },
  {
   "cell_type": "code",
   "execution_count": 17,
   "metadata": {},
   "outputs": [],
   "source": [
    "df['First_Marathon'] = df['First_Marathon'].astype(str)"
   ]
  },
  {
   "cell_type": "code",
   "execution_count": 18,
   "metadata": {},
   "outputs": [
    {
     "data": {
      "text/plain": [
       "210"
      ]
     },
     "execution_count": 18,
     "metadata": {},
     "output_type": "execute_result"
    }
   ],
   "source": [
    "df['First_Marathon'].nunique()"
   ]
  },
  {
   "cell_type": "markdown",
   "metadata": {},
   "source": [
    "There are 210 unique values for first marathon that need to be cleaned to be consistant and standard.\n",
    "\n",
    "This can be done in the future if the information is desired."
   ]
  },
  {
   "cell_type": "markdown",
   "metadata": {},
   "source": [
    "#### Years Running"
   ]
  },
  {
   "cell_type": "code",
   "execution_count": 19,
   "metadata": {},
   "outputs": [
    {
     "data": {
      "text/plain": [
       "array(['17', '11', '7', '4', '2', '24', '14', nan, '9', '1.5', '1',\n",
       "       'on and off for years', '10', '34', '0.5', '18', '20', '6', '3',\n",
       "       '12', '13', '6.5', '44', '15', '5.5', '2.8', '5', '23', '25', '8',\n",
       "       'less than a year', '1.8', '22', '30', '3.5', '21', '2.75', '19',\n",
       "       '2.5', '38', '0.75', '7.5', '2.2', '40', '16', '42', '35', '1.3',\n",
       "       '4.5', '2.3', '37', '8.5', '9 months', '0.9', '26'], dtype=object)"
      ]
     },
     "execution_count": 19,
     "metadata": {},
     "output_type": "execute_result"
    }
   ],
   "source": [
    "df['Years_Running'].unique()"
   ]
  },
  {
   "cell_type": "markdown",
   "metadata": {},
   "source": [
    "Change values that aren't numbers and round."
   ]
  },
  {
   "cell_type": "code",
   "execution_count": 20,
   "metadata": {},
   "outputs": [],
   "source": [
    "df['Years_Running'] = df['Years_Running'].replace({'on and off for years':'','9 months':'1','less than a year':'1'})\n",
    "df['Years_Running'] = pd.to_numeric(df['Years_Running'])\n",
    "df['Years_Running'] = df['Years_Running'].round()"
   ]
  },
  {
   "cell_type": "markdown",
   "metadata": {},
   "source": [
    "Similar to 'Sex' feature, this has upper and lower case values. Change all values to True or False. "
   ]
  },
  {
   "cell_type": "code",
   "execution_count": 21,
   "metadata": {},
   "outputs": [],
   "source": [
    "df['School_Running'] = df['School_Running'].replace({'n':False,'y':True,'Y':True})"
   ]
  },
  {
   "cell_type": "markdown",
   "metadata": {},
   "source": [
    "#### Lifetime Mileage"
   ]
  },
  {
   "cell_type": "code",
   "execution_count": 22,
   "metadata": {},
   "outputs": [
    {
     "data": {
      "text/plain": [
       "array([nan, '5000', '6000', '2500', '15000', '18,000', 'thousand of kms',\n",
       "       '2600', '4000', '2000', '500', '7598.6', '10000', '800', '400',\n",
       "       '9000', '3000', '2200', '8,000', '15,000', '10,000', '4500',\n",
       "       '13000', '7500', '?', '21000', '92000', '30000', '2298', '3465',\n",
       "       '2579', '8000', '7600', '2,500', '20000', '3500', '2340', '1500',\n",
       "       '13500', '3700', '12000', '40000', '6305', '5500', '5963', '5281',\n",
       "       '6440', '9500', '3473', '2790', '16000', '4300', '5,000', '7000',\n",
       "       '6118', '4,000', '7550', '30,000', '22,000', '8500', '1400', '300',\n",
       "       '16820', '1200', '24220', '17000', '28000', '18500', '1600',\n",
       "       '21840', '1000', '10500', '8700', '50000', '45000', '5300',\n",
       "       '25000', '6500', '14000', '2800', '40,000', '2300', '2485', '3728',\n",
       "       '6400', '11000', '14900', '9360', '5600', '10200', '6600', '2100',\n",
       "       '2700', '4660', '1100', '3706', '7800', '23000', '5800', '9320',\n",
       "       '38000', '12500', '1800', '22000', '20043'], dtype=object)"
      ]
     },
     "execution_count": 22,
     "metadata": {},
     "output_type": "execute_result"
    }
   ],
   "source": [
    "df['Lifetime_Mileage'].unique()"
   ]
  },
  {
   "cell_type": "markdown",
   "metadata": {},
   "source": [
    "Change any non-numbers, remove any commas, and round."
   ]
  },
  {
   "cell_type": "code",
   "execution_count": 23,
   "metadata": {},
   "outputs": [],
   "source": [
    "df['Lifetime_Mileage'] = df['Lifetime_Mileage'].replace({'?':'','thousand of kms':''})\n",
    "df['Lifetime_Mileage'] = df['Lifetime_Mileage'].replace(',','',regex=True)\n",
    "df['Lifetime_Mileage'] = pd.to_numeric(df['Lifetime_Mileage'])\n",
    "df['Lifetime_Mileage'] = df['Lifetime_Mileage'].round()"
   ]
  },
  {
   "cell_type": "markdown",
   "metadata": {},
   "source": [
    "#### Year Mileage"
   ]
  },
  {
   "cell_type": "code",
   "execution_count": 24,
   "metadata": {},
   "outputs": [
    {
     "data": {
      "text/plain": [
       "array(['2740', nan, '800', '2100', '1250', '1000', '2150',\n",
       "       '\"couple of thousand kms\"', '1200', '1300', '1500', '682', '300',\n",
       "       '3088.8', '1629', '400', '900', '2000', '1313', '450', '28',\n",
       "       '1750', '2800', '1400', '500', '3000', '2080', '1800', '1262',\n",
       "       '1172', '2500', '1942', '2385', '1016', '3500', '1700', '4200',\n",
       "       '3200', '2700', '2340', '1730', '550', '3640', '2372', '1129',\n",
       "       '3100', '745', '2085', '1171', '1722', '1350', '2200', '950',\n",
       "       '2272', '1761', '2300', '750', '1600', '2650', '14000', '2037',\n",
       "       '2900', '1484', '1102', '1972', '700', '1997', '3400', '0', '3800',\n",
       "       '1150', '1560', '1379', '2057', '2600', '3700', '5000', '3650',\n",
       "       '1382', '1900', '600', '2845', '3120', '2400', '4000', '1568',\n",
       "       '1168', '1100', '1614', '1180', '425', '960', '1003', '1470',\n",
       "       '1864', '1870', '2059', '1436', '2835', '1162', '1739', '1450',\n",
       "       '1185', '2112', '876'], dtype=object)"
      ]
     },
     "execution_count": 24,
     "metadata": {},
     "output_type": "execute_result"
    }
   ],
   "source": [
    "df['Year_Mileage'].unique()"
   ]
  },
  {
   "cell_type": "markdown",
   "metadata": {},
   "source": [
    "Change any non-numbers and round."
   ]
  },
  {
   "cell_type": "code",
   "execution_count": 25,
   "metadata": {},
   "outputs": [],
   "source": [
    "df['Year_Mileage'] = df['Year_Mileage'].replace('\"couple of thousand kms\"','')\n",
    "df['Year_Mileage'] = pd.to_numeric(df['Year_Mileage'])\n",
    "df['Year_Mileage'] = df['Year_Mileage'].round()"
   ]
  },
  {
   "cell_type": "code",
   "execution_count": 26,
   "metadata": {},
   "outputs": [
    {
     "data": {
      "text/plain": [
       "14000.0"
      ]
     },
     "execution_count": 26,
     "metadata": {},
     "output_type": "execute_result"
    }
   ],
   "source": [
    "df['Year_Mileage'].max()"
   ]
  },
  {
   "cell_type": "code",
   "execution_count": 27,
   "metadata": {},
   "outputs": [
    {
     "data": {
      "text/html": [
       "<div>\n",
       "<style scoped>\n",
       "    .dataframe tbody tr th:only-of-type {\n",
       "        vertical-align: middle;\n",
       "    }\n",
       "\n",
       "    .dataframe tbody tr th {\n",
       "        vertical-align: top;\n",
       "    }\n",
       "\n",
       "    .dataframe thead th {\n",
       "        text-align: right;\n",
       "    }\n",
       "</style>\n",
       "<table border=\"1\" class=\"dataframe\">\n",
       "  <thead>\n",
       "    <tr style=\"text-align: right;\">\n",
       "      <th></th>\n",
       "      <th>index</th>\n",
       "      <th>Sex</th>\n",
       "      <th>Age</th>\n",
       "      <th>Height</th>\n",
       "      <th>Weight</th>\n",
       "      <th>BMI</th>\n",
       "      <th>First_Marathon</th>\n",
       "      <th>Years_Running</th>\n",
       "      <th>School_Running</th>\n",
       "      <th>Lifetime_Mileage</th>\n",
       "      <th>Year_Mileage</th>\n",
       "      <th>Amount_of_Races</th>\n",
       "      <th>Running_Program</th>\n",
       "      <th>Running_Program_Used</th>\n",
       "      <th>Speed_Work</th>\n",
       "      <th>Speed_Work_Used</th>\n",
       "      <th>Cross_Training</th>\n",
       "      <th>Cross_Training_Used</th>\n",
       "      <th>Running_Club_or_Coach</th>\n",
       "    </tr>\n",
       "  </thead>\n",
       "  <tbody>\n",
       "    <tr>\n",
       "      <th>129</th>\n",
       "      <td>129</td>\n",
       "      <td>Male</td>\n",
       "      <td>28</td>\n",
       "      <td>72.0</td>\n",
       "      <td>165.0</td>\n",
       "      <td>22.0</td>\n",
       "      <td>Carolina Marathon 1990</td>\n",
       "      <td>14.0</td>\n",
       "      <td>True</td>\n",
       "      <td>30000.0</td>\n",
       "      <td>14000.0</td>\n",
       "      <td>10.0</td>\n",
       "      <td>n</td>\n",
       "      <td>NaN</td>\n",
       "      <td>y</td>\n",
       "      <td>fartleks, track work, hill</td>\n",
       "      <td>y</td>\n",
       "      <td>cycling, swimming</td>\n",
       "      <td>n</td>\n",
       "    </tr>\n",
       "  </tbody>\n",
       "</table>\n",
       "</div>"
      ],
      "text/plain": [
       "     index   Sex  Age  Height  Weight   BMI          First_Marathon  \\\n",
       "129    129  Male   28    72.0   165.0  22.0  Carolina Marathon 1990   \n",
       "\n",
       "     Years_Running School_Running  Lifetime_Mileage  Year_Mileage  \\\n",
       "129           14.0           True           30000.0       14000.0   \n",
       "\n",
       "     Amount_of_Races Running_Program Running_Program_Used Speed_Work  \\\n",
       "129             10.0               n                  NaN          y   \n",
       "\n",
       "                Speed_Work_Used Cross_Training Cross_Training_Used  \\\n",
       "129  fartleks, track work, hill              y   cycling, swimming   \n",
       "\n",
       "    Running_Club_or_Coach  \n",
       "129                     n  "
      ]
     },
     "execution_count": 27,
     "metadata": {},
     "output_type": "execute_result"
    }
   ],
   "source": [
    "df[df['Year_Mileage'] == 14000]"
   ]
  },
  {
   "cell_type": "markdown",
   "metadata": {},
   "source": [
    "That's a lot of miles in one year! Checking this data point against the original site data, this is another error. This should actually be 1400. "
   ]
  },
  {
   "cell_type": "code",
   "execution_count": 28,
   "metadata": {},
   "outputs": [],
   "source": [
    "df.loc[129,'Year_Mileage'] = 1400"
   ]
  },
  {
   "cell_type": "markdown",
   "metadata": {},
   "source": [
    "#### Amount of Races"
   ]
  },
  {
   "cell_type": "code",
   "execution_count": 29,
   "metadata": {},
   "outputs": [
    {
     "data": {
      "text/plain": [
       "2300.0"
      ]
     },
     "execution_count": 29,
     "metadata": {},
     "output_type": "execute_result"
    }
   ],
   "source": [
    "df['Amount_of_Races'].max()"
   ]
  },
  {
   "cell_type": "markdown",
   "metadata": {},
   "source": [
    "This can't be possible. Can't confirm what the actual value should be, so this point will be changed to null."
   ]
  },
  {
   "cell_type": "code",
   "execution_count": 30,
   "metadata": {},
   "outputs": [],
   "source": [
    "df['Amount_of_Races'] = df['Amount_of_Races'].replace(2300.0,None)"
   ]
  },
  {
   "cell_type": "markdown",
   "metadata": {},
   "source": [
    "#### Running Program"
   ]
  },
  {
   "cell_type": "code",
   "execution_count": 31,
   "metadata": {},
   "outputs": [],
   "source": [
    "df['Running_Program'] = df['Running_Program'].replace({'y':True,'n':False,'Y':True})"
   ]
  },
  {
   "cell_type": "markdown",
   "metadata": {},
   "source": [
    "#### Running Program Used"
   ]
  },
  {
   "cell_type": "code",
   "execution_count": 32,
   "metadata": {},
   "outputs": [
    {
     "data": {
      "text/plain": [
       "array([\"Mcmillan's You (but faster)\", nan, 'Hal Higdon Advanced',\n",
       "       'hal higdon', 'my asics online', 'Pfitzinger 55/18',\n",
       "       'hal higdon advanced 1', 'hansons', 'hal higdon advanced',\n",
       "       'run less run faster', 'mcmillian', 'Run Less Run Faster', 'FIRST',\n",
       "       'Pfitzinger 55/85', 'nike+', 'Hal Higdon Intermediate 2',\n",
       "       \"runner's world smart coach\",\n",
       "       '\"I Don\\'t Know What The Fuck I\\'m Doing But I Love Running.\"',\n",
       "       'NYRR Advanced A', ' FIRST', 'Pftizinger 18/55',\n",
       "       \"Customized Jack Daniel's RunSMART.com\", 'n', 'BAA', 'pftiz',\n",
       "       'pfitz 18/70', 'run less, run faster', 'Hanson Advanced',\n",
       "       'pftizinger 18/55', 'Pfitzinger 18/70', 'Pfitzinger 18/55',\n",
       "       'pfitzinger 18/55', 'garmin intermediate ',\n",
       "       'baystate program by John Barbour', 'Hansons', 'Hal Higdon',\n",
       "       'pfitzinger 18/70', 'Jack Daneis 2Q', 'pfitzinger 55',\n",
       "       \"hanson's advanced\", 'pfitzinger 18/85',\n",
       "       'faster from 5k to marathon', 'runners world', 'Hanson', 'higdons',\n",
       "       'Brooks Hansons', 'asics', 'developed by coach', 'cool running',\n",
       "       'Howard Nippert', 'pfitz 12/70', 'hanson', 'Pfitz',\n",
       "       'Hal Higdon Advanced 1', 'pfitzinger', 'Pfitzinger', 'pfitznger',\n",
       "       'Pfitz 18/70', 'lydiard', 'pfitzgerald',\n",
       "       'hal hidgon intermediate 2', 'Jack Daniels', 'track shack',\n",
       "       'run fast run slow', 'Pfitz 18/55', 'RW Run Smart', 'Pfitz 12/55',\n",
       "       'Pfitzinger 12/70', 'higdon advanced', 'hansons beginner',\n",
       "       ' Run with Power', 'Masters Marathon', 'Revel Race Series',\n",
       "       'Jack Daniels A Plan', 'Glovers Vetran Marathoner', 'higdon',\n",
       "       'nike', 'Nike', 'nike advanced', 'ha;h hogdon'], dtype=object)"
      ]
     },
     "execution_count": 32,
     "metadata": {},
     "output_type": "execute_result"
    }
   ],
   "source": [
    "df['Running_Program_Used'].unique()"
   ]
  },
  {
   "cell_type": "markdown",
   "metadata": {},
   "source": [
    "There's many different programs entered here that are spelled or submitted differently and will need a lot of cleaning to standardize. \n",
    "\n",
    "We'll create a two new dataframes for analyzing running programs. "
   ]
  },
  {
   "cell_type": "code",
   "execution_count": 33,
   "metadata": {},
   "outputs": [],
   "source": [
    "run_program_df = pd.DataFrame(data=df['Running_Program_Used'])\n",
    "run_program_df = run_program_df.dropna()\n",
    "run_program_df.reset_index(drop=True,inplace=True)"
   ]
  },
  {
   "cell_type": "code",
   "execution_count": 34,
   "metadata": {},
   "outputs": [],
   "source": [
    "total = df['Running_Program_Used'].size\n",
    "with_program = run_program_df.size\n",
    "without_program = total - with_program"
   ]
  },
  {
   "cell_type": "code",
   "execution_count": 35,
   "metadata": {},
   "outputs": [],
   "source": [
    "program_used = pd.DataFrame(data={'Used_Program':[with_program,with_program/total],\n",
    "                                  'No_Program':[without_program,without_program/total]})\n",
    "program_used.index = ['Total','Percent_Total']"
   ]
  },
  {
   "cell_type": "code",
   "execution_count": 36,
   "metadata": {},
   "outputs": [
    {
     "data": {
      "text/html": [
       "<div>\n",
       "<style scoped>\n",
       "    .dataframe tbody tr th:only-of-type {\n",
       "        vertical-align: middle;\n",
       "    }\n",
       "\n",
       "    .dataframe tbody tr th {\n",
       "        vertical-align: top;\n",
       "    }\n",
       "\n",
       "    .dataframe thead th {\n",
       "        text-align: right;\n",
       "    }\n",
       "</style>\n",
       "<table border=\"1\" class=\"dataframe\">\n",
       "  <thead>\n",
       "    <tr style=\"text-align: right;\">\n",
       "      <th></th>\n",
       "      <th>Used_Program</th>\n",
       "      <th>No_Program</th>\n",
       "    </tr>\n",
       "  </thead>\n",
       "  <tbody>\n",
       "    <tr>\n",
       "      <th>Total</th>\n",
       "      <td>113.0</td>\n",
       "      <td>263.0</td>\n",
       "    </tr>\n",
       "    <tr>\n",
       "      <th>Percent_Total</th>\n",
       "      <td>0.3</td>\n",
       "      <td>0.7</td>\n",
       "    </tr>\n",
       "  </tbody>\n",
       "</table>\n",
       "</div>"
      ],
      "text/plain": [
       "               Used_Program  No_Program\n",
       "Total                 113.0       263.0\n",
       "Percent_Total           0.3         0.7"
      ]
     },
     "execution_count": 36,
     "metadata": {},
     "output_type": "execute_result"
    }
   ],
   "source": [
    "program_used.round(2)\n"
   ]
  },
  {
   "cell_type": "code",
   "execution_count": 37,
   "metadata": {},
   "outputs": [],
   "source": [
    "run_program_df['Running_Program_Used'] = run_program_df['Running_Program_Used'].str.lower()"
   ]
  },
  {
   "cell_type": "markdown",
   "metadata": {},
   "source": [
    "Change any values that won't be picked up and changed by the pipeline."
   ]
  },
  {
   "cell_type": "code",
   "execution_count": 38,
   "metadata": {},
   "outputs": [],
   "source": [
    "run_program_df['Running_Program_Used'].replace({'pftizinger 18/55':'pfitz','pftiz':'pfitz','hal hidgon intermediate 2':'higdon',\n",
    "                                                'run less run faster':'first','run less, run faster':'first',\n",
    "                                                'faster from 5k to marathon':'Hudson',\n",
    "                                                \"runner's world smart coach\":'Runners World Smart Coach',\n",
    "                                                'runners world':'Runners World Smart Coach','rw run smart':'jack',\n",
    "                                                ' run with power':'run with power','ha;h hogdon':'higdon'},\n",
    "                                               inplace=True)"
   ]
  },
  {
   "cell_type": "markdown",
   "metadata": {},
   "source": [
    "This list of tuples links possible words contained in the data values that will be changed to a new consistent value."
   ]
  },
  {
   "cell_type": "code",
   "execution_count": 39,
   "metadata": {},
   "outputs": [],
   "source": [
    "program_tup_list = [('Nike','nike'),('McMillan','mcmillan'),('McMillan','mcmillian'),('Hal Higdon','higdon'),('Hanson','hanson'),\n",
    "                ('Pfitzinger','pfitz'),('MY ASICS','asic'),('NY Road Runners','nyrr'),('Boston Athletic Association','baa'),\n",
    "                ('Jack Daniels','jack'),('FIRST','first'),\n",
    "                ('Garmin','garmin'),('Baystate Run Program','baystate'),('Cool Running','cool'),('Howard Nippert','nippert'),\n",
    "                ('Lydiard','lydiard'),('Track Shack','shack'),('Run with Power','run with power'),('Revel Race Series','revel'),\n",
    "                (\"Glover's\",'glover')]"
   ]
  },
  {
   "cell_type": "markdown",
   "metadata": {},
   "source": [
    "Clean data."
   ]
  },
  {
   "cell_type": "code",
   "execution_count": 40,
   "metadata": {},
   "outputs": [],
   "source": [
    "for i,j in program_tup_list:\n",
    "    run_program_df['Running_Program_Used'] = run_program_df['Running_Program_Used'].apply(lambda x: i if j in x else x)"
   ]
  },
  {
   "cell_type": "code",
   "execution_count": 41,
   "metadata": {},
   "outputs": [],
   "source": [
    "program_list = [sub[0] for sub in program_tup_list]"
   ]
  },
  {
   "cell_type": "code",
   "execution_count": 42,
   "metadata": {},
   "outputs": [],
   "source": [
    "run_program_df['Running_Program_Used'] = run_program_df[run_program_df['Running_Program_Used'].isin(program_list)]"
   ]
  },
  {
   "cell_type": "code",
   "execution_count": 43,
   "metadata": {},
   "outputs": [],
   "source": [
    "run_program_df['Running_Program_Used'].dropna(inplace=True)"
   ]
  },
  {
   "cell_type": "markdown",
   "metadata": {},
   "source": [
    "#### Speed Work"
   ]
  },
  {
   "cell_type": "code",
   "execution_count": 44,
   "metadata": {},
   "outputs": [],
   "source": [
    "df['Speed_Work'] = df['Speed_Work'].replace({'y':True,'Y':True,'n':False,'N':False})"
   ]
  },
  {
   "cell_type": "markdown",
   "metadata": {},
   "source": [
    "#### Speed Work Used "
   ]
  },
  {
   "cell_type": "code",
   "execution_count": 45,
   "metadata": {},
   "outputs": [
    {
     "data": {
      "text/plain": [
       "array(['tempo, intervals', 'two speed workouts a week', nan,\n",
       "       'tempo runs, marathon pace', 'mile repeats', 'progressive',\n",
       "       'yasso 800s', 'tempo', 'tempo, fartleks, intervals',\n",
       "       'lactate threshold', 'mile repeats; 800m repeats',\n",
       "       'vo2max; 6x600 at 5k pace', 'hills, long runs', 'hills',\n",
       "       'tempo, mile repeats', 'intervals', 'marathon pace',\n",
       "       'intervals, tempo', 'hills, fartleks',\n",
       "       'intervals, fartleks, hills', 'track workouts',\n",
       "       'intervals, fartleks', 'track intervals', 'tempo MP long runs',\n",
       "       'Marathon pace', \"plan's workout\", 'intervals weekly',\n",
       "       'marathon pace runs', 'tempo, hills, intervals',\n",
       "       'tempo runs, intervals', 'speed work, tempo run, ',\n",
       "       'tempo, track work, hills', 'track work, tempo', '400 repeats',\n",
       "       'weekly workout of 800, 1 mile, 1.5 mile, or 2 mile repeats',\n",
       "       'tempo, fartlek', '800s, tempo, mile repeats',\n",
       "       'lactate threshold workouts', 'fartleks, 800m repeats',\n",
       "       'Intervals', 'intervals, fast finish', 'tempo runs, track work',\n",
       "       'fartleks, track work, hill', 'fartleks, tempo, intervals',\n",
       "       'mp long runs, ', 'track work, marathon pace ', 'tempo, 800s',\n",
       "       'tempo runs', 'Yasso 800s', 'track work, mile repeats',\n",
       "       'tempo, track work', '800s', 'fartleks', 'track work',\n",
       "       'track work; hills', 'track work, marathon pace, tempo', 'tempo, ',\n",
       "       '800s, ', 'track work, tempo runs', 'tempo, hills, track',\n",
       "       'tempo, strides, track', 'tempo, threshold', 'tempo, track',\n",
       "       'tempos, intervals, ', 'tempo, hills, track, ',\n",
       "       'track; mile repeats', 'intervals; tempo',\n",
       "       'track work, marathon pace', 'track work, tempo, ', '5k pace',\n",
       "       'aerobic threshold', 'Tempo runs', 'race pace',\n",
       "       'mile repeats, track work, ', 'tempos, short strides',\n",
       "       'tempos, track work', 'tempo, hills', 'hill repeats',\n",
       "       '800 repeats', 'track', '5k pace and hm pace', 'track work outs',\n",
       "       'Tempo, mile repeats', 'vo2 max, tempo', 'tempo, marathon pace',\n",
       "       'strides', 'tempo, lactate threshold', 'speed work',\n",
       "       'MP, Track work', 'vo2 max 1000m '], dtype=object)"
      ]
     },
     "execution_count": 45,
     "metadata": {},
     "output_type": "execute_result"
    }
   ],
   "source": [
    "df['Speed_Work_Used'].unique()"
   ]
  },
  {
   "cell_type": "code",
   "execution_count": 46,
   "metadata": {},
   "outputs": [],
   "source": [
    "speed_work_df = pd.DataFrame(data=df['Speed_Work_Used'])\n",
    "speed_work_df = speed_work_df.dropna()\n",
    "speed_work_df = speed_work_df.reset_index(drop=True)"
   ]
  },
  {
   "cell_type": "code",
   "execution_count": 47,
   "metadata": {},
   "outputs": [],
   "source": [
    "speed_total = df['Speed_Work_Used'].size\n",
    "speed_with_program = speed_work_df.size\n",
    "speed_without_program = speed_total - speed_with_program"
   ]
  },
  {
   "cell_type": "code",
   "execution_count": 48,
   "metadata": {},
   "outputs": [],
   "source": [
    "speed_program_used = pd.DataFrame(data={'Used_Speed_Work':[speed_with_program,speed_with_program/speed_total],\n",
    "                                  'No_Speed_Work':[speed_without_program,speed_without_program/speed_total]})\n",
    "speed_program_used.index = ['Total','Percent_Total']"
   ]
  },
  {
   "cell_type": "code",
   "execution_count": 49,
   "metadata": {},
   "outputs": [
    {
     "data": {
      "text/html": [
       "<div>\n",
       "<style scoped>\n",
       "    .dataframe tbody tr th:only-of-type {\n",
       "        vertical-align: middle;\n",
       "    }\n",
       "\n",
       "    .dataframe tbody tr th {\n",
       "        vertical-align: top;\n",
       "    }\n",
       "\n",
       "    .dataframe thead th {\n",
       "        text-align: right;\n",
       "    }\n",
       "</style>\n",
       "<table border=\"1\" class=\"dataframe\">\n",
       "  <thead>\n",
       "    <tr style=\"text-align: right;\">\n",
       "      <th></th>\n",
       "      <th>Used_Speed_Work</th>\n",
       "      <th>No_Speed_Work</th>\n",
       "    </tr>\n",
       "  </thead>\n",
       "  <tbody>\n",
       "    <tr>\n",
       "      <th>Total</th>\n",
       "      <td>210.0</td>\n",
       "      <td>166.0</td>\n",
       "    </tr>\n",
       "    <tr>\n",
       "      <th>Percent_Total</th>\n",
       "      <td>0.6</td>\n",
       "      <td>0.4</td>\n",
       "    </tr>\n",
       "  </tbody>\n",
       "</table>\n",
       "</div>"
      ],
      "text/plain": [
       "               Used_Speed_Work  No_Speed_Work\n",
       "Total                    210.0          166.0\n",
       "Percent_Total              0.6            0.4"
      ]
     },
     "execution_count": 49,
     "metadata": {},
     "output_type": "execute_result"
    }
   ],
   "source": [
    "speed_program_used.round(1)"
   ]
  },
  {
   "cell_type": "markdown",
   "metadata": {},
   "source": [
    "Similar data clean to the 'Running Program Used' feature will be used here in the future to classify each type of workout used by each person. The difference will be adding a column for each speed work used as dummy variables in order to assign multiple workouts to each row. "
   ]
  },
  {
   "cell_type": "code",
   "execution_count": 50,
   "metadata": {},
   "outputs": [],
   "source": [
    "speed_work_df['Speed_Work_Used'] = speed_work_df['Speed_Work_Used'].str.lower()"
   ]
  },
  {
   "cell_type": "code",
   "execution_count": 51,
   "metadata": {},
   "outputs": [],
   "source": [
    "speed_tup_list = [('Mile Repeats','mile'),\n",
    "                  ('Tempo Runs','tempo'),\n",
    "                  ('800m Repeats','800'),\n",
    "                  ('Marathon Pace','marathon'),\n",
    "                  ('Yasso 800s','yasso'),\n",
    "                  ('Fartleks','fartlek'),\n",
    "                  ('Hill Repeats','hill'),\n",
    "                  ('400m Repeats','400'),\n",
    "                  ('Lactate Threshold','threshold'),\n",
    "                  ('Intervals',('interval','v02 max'))]"
   ]
  },
  {
   "cell_type": "code",
   "execution_count": 52,
   "metadata": {},
   "outputs": [
    {
     "name": "stderr",
     "output_type": "stream",
     "text": [
      "/Users/colinpierce/anaconda3/lib/python3.7/site-packages/ipykernel_launcher.py:7: SettingWithCopyWarning: \n",
      "A value is trying to be set on a copy of a slice from a DataFrame\n",
      "\n",
      "See the caveats in the documentation: https://pandas.pydata.org/pandas-docs/stable/user_guide/indexing.html#returning-a-view-versus-a-copy\n",
      "  import sys\n",
      "/Users/colinpierce/anaconda3/lib/python3.7/site-packages/ipykernel_launcher.py:12: SettingWithCopyWarning: \n",
      "A value is trying to be set on a copy of a slice from a DataFrame\n",
      "\n",
      "See the caveats in the documentation: https://pandas.pydata.org/pandas-docs/stable/user_guide/indexing.html#returning-a-view-versus-a-copy\n",
      "  if sys.path[0] == '':\n"
     ]
    }
   ],
   "source": [
    "for j,k in speed_tup_list:\n",
    "    speed_work_df[j] = False\n",
    "    for i in range(len(speed_work_df['Speed_Work_Used'])-1):\n",
    "        \n",
    "        if type(k) == str:\n",
    "            if k in speed_work_df['Speed_Work_Used'][i]:\n",
    "                speed_work_df[j][i] = True\n",
    "                \n",
    "        else:\n",
    "            for x in k:\n",
    "                if x in speed_work_df['Speed_Work_Used'][i]:\n",
    "                    speed_work_df[j][i] = True"
   ]
  },
  {
   "cell_type": "code",
   "execution_count": 53,
   "metadata": {},
   "outputs": [],
   "source": [
    "speed_list = []\n",
    "for i in speed_work_df.columns:\n",
    "    speed_list.append(i)"
   ]
  },
  {
   "cell_type": "code",
   "execution_count": 54,
   "metadata": {},
   "outputs": [],
   "source": [
    "sum_speed_list = []\n",
    "speed_list = speed_list[1:]\n",
    "\n",
    "for i in speed_list:\n",
    "    sum_speed_list.append(speed_work_df[i].sum())"
   ]
  },
  {
   "cell_type": "code",
   "execution_count": 55,
   "metadata": {},
   "outputs": [],
   "source": [
    "speed_sum_df = pd.DataFrame(list(zip(speed_list,sum_speed_list)),columns=['Speed Work','Sum']).sort_values(by='Sum',ascending=False)"
   ]
  },
  {
   "cell_type": "markdown",
   "metadata": {},
   "source": [
    "#### Cross Training"
   ]
  },
  {
   "cell_type": "code",
   "execution_count": 56,
   "metadata": {},
   "outputs": [],
   "source": [
    "df['Cross_Training'] = df['Cross_Training'].replace({'y':True,'Y':True,'n':False,'N':False})"
   ]
  },
  {
   "cell_type": "markdown",
   "metadata": {},
   "source": [
    "#### Cross Training Used"
   ]
  },
  {
   "cell_type": "code",
   "execution_count": 57,
   "metadata": {},
   "outputs": [
    {
     "data": {
      "text/plain": [
       "array(['swimming, core, ', 'rock climbing', 'spin class', nan, 'cycling',\n",
       "       'weights, aerobics', 'bodyweight', 'swimming, biking',\n",
       "       'strength training', 'swimming, cycling',\n",
       "       'aerobics and zumba classes', 'swimming, erg, spin class', 'core',\n",
       "       'weights, eliptical', 'cycling, swimming',\n",
       "       'spin class; strength training', 'weight training, cycling',\n",
       "       'swimming, lifting', 'bootcamp',\n",
       "       'aerobic classes, strength training', 'cross country skiing',\n",
       "       'some swimming and biking', 'soccer; rock climbing', 'weights',\n",
       "       'increased flexibility, range of motion and core, adductor, illiopsoas strength.',\n",
       "       'yoga', 'strength', 'weight lifting', 'crossfit',\n",
       "       'cycling, weights, core', 'cycling, weights', 'bodyweight circuit',\n",
       "       'aerobics', 'trx', 'core, weights', 'core, cycling',\n",
       "       'weights, cycling', 'mountain biking', 'weights, core',\n",
       "       'core, swimming, cycling', 'rowing, biking, swimming',\n",
       "       'swimming, stationary bike', 'eliptical', 'pilates',\n",
       "       'weight training', 'weightlifting', 'yoga, mma',\n",
       "       'cross country skiiing', 'weight training, basketball',\n",
       "       'pilates, core', 'swiming core', 'n', 'Bodyweight work',\n",
       "       'swimming', 'strength training ', 'weighlifting',\n",
       "       'swimming, running', 'pool running', 'climbing, cycling',\n",
       "       'weight trainig', 'biking, weights', 'hiking, yoga',\n",
       "       'pilates, yoga', 'swimming, surfing', 'hiking', 'swimming biking',\n",
       "       'weight lifting, yoga, swimming', ' trx ', 'cycling, climbing',\n",
       "       'spin classes', 'cycling. swimming', 'hockey', 'barre classes',\n",
       "       'basketball, soccer, cycling',\n",
       "       'cycling, swimming, weight training', 'lifting, core',\n",
       "       'cycling, basketball', ' weightlifting', 'swimming, weights',\n",
       "       'walking', 'sauna ', 'weight training ',\n",
       "       'swimming, biking, strength training', 'swiming, cycling'],\n",
       "      dtype=object)"
      ]
     },
     "execution_count": 57,
     "metadata": {},
     "output_type": "execute_result"
    }
   ],
   "source": [
    "df['Cross_Training_Used'].unique()"
   ]
  },
  {
   "cell_type": "code",
   "execution_count": 58,
   "metadata": {},
   "outputs": [],
   "source": [
    "cross_training_df = pd.DataFrame(data=df['Cross_Training_Used'])\n",
    "cross_training_df = cross_training_df.dropna()\n",
    "cross_training_df = cross_training_df.reset_index(drop=True)"
   ]
  },
  {
   "cell_type": "code",
   "execution_count": 59,
   "metadata": {},
   "outputs": [],
   "source": [
    "cross_total = df['Cross_Training_Used'].size\n",
    "cross_with = cross_training_df.size\n",
    "cross_without = cross_total - cross_with"
   ]
  },
  {
   "cell_type": "code",
   "execution_count": 60,
   "metadata": {},
   "outputs": [],
   "source": [
    "cross_training_used = pd.DataFrame(data={'Used_Cross_Training':[cross_with,cross_with/cross_total],\n",
    "                                  'No_Cross_Training':[cross_without,cross_without/cross_total]})\n",
    "cross_training_used.index = ['Total','Percent_Total']"
   ]
  },
  {
   "cell_type": "code",
   "execution_count": 61,
   "metadata": {},
   "outputs": [
    {
     "data": {
      "text/html": [
       "<div>\n",
       "<style scoped>\n",
       "    .dataframe tbody tr th:only-of-type {\n",
       "        vertical-align: middle;\n",
       "    }\n",
       "\n",
       "    .dataframe tbody tr th {\n",
       "        vertical-align: top;\n",
       "    }\n",
       "\n",
       "    .dataframe thead th {\n",
       "        text-align: right;\n",
       "    }\n",
       "</style>\n",
       "<table border=\"1\" class=\"dataframe\">\n",
       "  <thead>\n",
       "    <tr style=\"text-align: right;\">\n",
       "      <th></th>\n",
       "      <th>Used_Cross_Training</th>\n",
       "      <th>No_Cross_Training</th>\n",
       "    </tr>\n",
       "  </thead>\n",
       "  <tbody>\n",
       "    <tr>\n",
       "      <th>Total</th>\n",
       "      <td>164.0</td>\n",
       "      <td>212.0</td>\n",
       "    </tr>\n",
       "    <tr>\n",
       "      <th>Percent_Total</th>\n",
       "      <td>0.4</td>\n",
       "      <td>0.6</td>\n",
       "    </tr>\n",
       "  </tbody>\n",
       "</table>\n",
       "</div>"
      ],
      "text/plain": [
       "               Used_Cross_Training  No_Cross_Training\n",
       "Total                        164.0              212.0\n",
       "Percent_Total                  0.4                0.6"
      ]
     },
     "execution_count": 61,
     "metadata": {},
     "output_type": "execute_result"
    }
   ],
   "source": [
    "cross_training_used.round(1)"
   ]
  },
  {
   "cell_type": "markdown",
   "metadata": {},
   "source": [
    "In order to clean the Cross Training Used to analyze which activites were used, we'll create a new dataset that will have dummy features to indicate each activity that is used by each row. This allows multiple activities to be indicated."
   ]
  },
  {
   "cell_type": "code",
   "execution_count": 62,
   "metadata": {},
   "outputs": [],
   "source": [
    "cross_training_df['Cross_Training_Used'] = cross_training_df['Cross_Training_Used'].str.lower()"
   ]
  },
  {
   "cell_type": "markdown",
   "metadata": {},
   "source": [
    "Tuple list containing each activity we will be identifing from the data."
   ]
  },
  {
   "cell_type": "code",
   "execution_count": 63,
   "metadata": {},
   "outputs": [],
   "source": [
    "cross_tup_list = [('Swimming','swim'),\n",
    "                  ('Strength Training',('core','lift','crossfit','weights','weight','trx','erg','row')),\n",
    "                  ('Rock Climbing','climb'),\n",
    "                  ('Cycling',('spin','biking','cycling','eliptical','bike')),\n",
    "                  ('Aerobics',('aerobic','pool')),\n",
    "                  ('Skiing','ski'),\n",
    "                  ('Soccer','soccer'),\n",
    "                  ('Yoga','yoga'),\n",
    "                  ('Pilates','pilates'),\n",
    "                  ('MMA','mma'),\n",
    "                  ('Basketball','basketball'),\n",
    "                  ('Hockey','hockey'),\n",
    "                  ('Boot Camp','bootcamp')]"
   ]
  },
  {
   "cell_type": "markdown",
   "metadata": {},
   "source": [
    "Apply tuple list to the cross training dataframe to populate with True or False for each activity."
   ]
  },
  {
   "cell_type": "code",
   "execution_count": 64,
   "metadata": {},
   "outputs": [
    {
     "name": "stderr",
     "output_type": "stream",
     "text": [
      "/Users/colinpierce/anaconda3/lib/python3.7/site-packages/ipykernel_launcher.py:7: SettingWithCopyWarning: \n",
      "A value is trying to be set on a copy of a slice from a DataFrame\n",
      "\n",
      "See the caveats in the documentation: https://pandas.pydata.org/pandas-docs/stable/user_guide/indexing.html#returning-a-view-versus-a-copy\n",
      "  import sys\n",
      "/Users/colinpierce/anaconda3/lib/python3.7/site-packages/ipykernel_launcher.py:12: SettingWithCopyWarning: \n",
      "A value is trying to be set on a copy of a slice from a DataFrame\n",
      "\n",
      "See the caveats in the documentation: https://pandas.pydata.org/pandas-docs/stable/user_guide/indexing.html#returning-a-view-versus-a-copy\n",
      "  if sys.path[0] == '':\n"
     ]
    }
   ],
   "source": [
    "for j,k in cross_tup_list:\n",
    "    cross_training_df[j] = False\n",
    "    for i in range(len(cross_training_df['Cross_Training_Used'])-1):\n",
    "        \n",
    "        if type(k) == str:\n",
    "            if k in cross_training_df['Cross_Training_Used'][i]:\n",
    "                cross_training_df[j][i] = True\n",
    "                \n",
    "        else:\n",
    "            for x in k:\n",
    "                if x in cross_training_df['Cross_Training_Used'][i]:\n",
    "                    cross_training_df[j][i] = True"
   ]
  },
  {
   "cell_type": "markdown",
   "metadata": {},
   "source": [
    "Create a new dataframe to count each activity."
   ]
  },
  {
   "cell_type": "code",
   "execution_count": 65,
   "metadata": {},
   "outputs": [],
   "source": [
    "cross_list = []\n",
    "for i in cross_training_df.columns:\n",
    "    cross_list.append(i)"
   ]
  },
  {
   "cell_type": "code",
   "execution_count": 66,
   "metadata": {},
   "outputs": [],
   "source": [
    "sum_list = []\n",
    "cross_list = cross_list[1:]\n",
    "\n",
    "for i in cross_list:\n",
    "    sum_list.append(cross_training_df[i].sum())"
   ]
  },
  {
   "cell_type": "code",
   "execution_count": 67,
   "metadata": {},
   "outputs": [],
   "source": [
    "cross_sum_df = pd.DataFrame(list(zip(cross_list,sum_list)),columns=['Cross_Training','Sum']).sort_values(by='Sum',ascending=False)"
   ]
  },
  {
   "cell_type": "markdown",
   "metadata": {},
   "source": [
    "#### Running Club or Coach"
   ]
  },
  {
   "cell_type": "code",
   "execution_count": 68,
   "metadata": {},
   "outputs": [],
   "source": [
    "df['Running_Club_or_Coach'] = df['Running_Club_or_Coach'].replace({'n':False,'N':False,'y':True,'Y':True})"
   ]
  },
  {
   "cell_type": "markdown",
   "metadata": {},
   "source": [
    "Drop unused columns. This column data was sent to other dataframes for analysis."
   ]
  },
  {
   "cell_type": "code",
   "execution_count": 69,
   "metadata": {},
   "outputs": [],
   "source": [
    "df2 = df.drop(['Running_Program_Used','Speed_Work_Used','Cross_Training_Used'],axis=1)"
   ]
  },
  {
   "cell_type": "markdown",
   "metadata": {},
   "source": [
    "## Transfer to Database"
   ]
  },
  {
   "cell_type": "markdown",
   "metadata": {},
   "source": [
    "Using the load_data function I imported from loadextract.py, I can load each dataframe created during the cleaniing to a table in the dataframe."
   ]
  },
  {
   "cell_type": "code",
   "execution_count": 70,
   "metadata": {},
   "outputs": [],
   "source": [
    "load_data(df2, 'runner', True)\n",
    "load_data(run_program_df, 'program', False)\n",
    "load_data(speed_sum_df, 'speed', False)\n",
    "load_data(cross_sum_df, 'crosstrain', False)"
   ]
  },
  {
   "cell_type": "markdown",
   "metadata": {},
   "source": [
    "## Extract Data"
   ]
  },
  {
   "cell_type": "markdown",
   "metadata": {},
   "source": [
    "With the extract_data function, I can extract each table from the data into a dataframe for analysis."
   ]
  },
  {
   "cell_type": "code",
   "execution_count": 71,
   "metadata": {},
   "outputs": [],
   "source": [
    "runner = extract_data('runner')\n",
    "crosstrain = extract_data('crosstrain')\n",
    "program = extract_data('program')\n",
    "speed = extract_data('speed')"
   ]
  },
  {
   "cell_type": "markdown",
   "metadata": {},
   "source": [
    "## Analyze"
   ]
  },
  {
   "cell_type": "markdown",
   "metadata": {},
   "source": [
    "To answer our question of what training is required to achieve a Boston qualifying time, we'll look at the physical characteristics and the training habits of the runners."
   ]
  },
  {
   "cell_type": "markdown",
   "metadata": {},
   "source": [
    "### Physical Characteristics"
   ]
  },
  {
   "cell_type": "markdown",
   "metadata": {},
   "source": [
    "#### Age"
   ]
  },
  {
   "cell_type": "code",
   "execution_count": 72,
   "metadata": {},
   "outputs": [
    {
     "data": {
      "text/plain": [
       "<AxesSubplot:xlabel='Age', ylabel='Count'>"
      ]
     },
     "execution_count": 72,
     "metadata": {},
     "output_type": "execute_result"
    },
    {
     "data": {
      "image/png": "[encoded data removed]",
      "text/plain": [
       "<Figure size 432x288 with 1 Axes>"
      ]
     },
     "metadata": {},
     "output_type": "display_data"
    }
   ],
   "source": [
    "sns.histplot(data=runner, x='Age')"
   ]
  },
  {
   "cell_type": "code",
   "execution_count": 73,
   "metadata": {},
   "outputs": [
    {
     "data": {
      "text/plain": [
       "34.0"
      ]
     },
     "execution_count": 73,
     "metadata": {},
     "output_type": "execute_result"
    }
   ],
   "source": [
    "runner['Age'].median()\n"
   ]
  },
  {
   "cell_type": "code",
   "execution_count": 74,
   "metadata": {},
   "outputs": [
    {
     "data": {
      "text/plain": [
       "67"
      ]
     },
     "execution_count": 74,
     "metadata": {},
     "output_type": "execute_result"
    }
   ],
   "source": [
    "runner['Age'].max()"
   ]
  },
  {
   "cell_type": "markdown",
   "metadata": {},
   "source": [
    "The median age of the runner was 34, with the biggest grouping between the ages of 20 and 25, and each older group decreased in quantity. The max age in the data was 67 years old, so for a lot of people there's plenty of time to start training for a qualifying time. "
   ]
  },
  {
   "cell_type": "markdown",
   "metadata": {},
   "source": [
    "#### Height, Weight, BMI"
   ]
  },
  {
   "cell_type": "code",
   "execution_count": 75,
   "metadata": {},
   "outputs": [
    {
     "data": {
      "text/plain": [
       "<AxesSubplot:xlabel='Height', ylabel='Count'>"
      ]
     },
     "execution_count": 75,
     "metadata": {},
     "output_type": "execute_result"
    },
    {
     "data": {
      "image/png": "[encoded data removed]",
      "text/plain": [
       "<Figure size 432x288 with 1 Axes>"
      ]
     },
     "metadata": {},
     "output_type": "display_data"
    }
   ],
   "source": [
    "sns.histplot(data=runner, x='Height')"
   ]
  },
  {
   "cell_type": "code",
   "execution_count": 76,
   "metadata": {},
   "outputs": [
    {
     "data": {
      "text/plain": [
       "<AxesSubplot:xlabel='Weight', ylabel='Count'>"
      ]
     },
     "execution_count": 76,
     "metadata": {},
     "output_type": "execute_result"
    },
    {
     "data": {
      "image/png": "[encoded data removed]",
      "text/plain": [
       "<Figure size 432x288 with 1 Axes>"
      ]
     },
     "metadata": {},
     "output_type": "display_data"
    }
   ],
   "source": [
    "sns.histplot(data=runner, x='Weight')"
   ]
  },
  {
   "cell_type": "code",
   "execution_count": 77,
   "metadata": {},
   "outputs": [
    {
     "data": {
      "text/plain": [
       "<AxesSubplot:xlabel='BMI', ylabel='Count'>"
      ]
     },
     "execution_count": 77,
     "metadata": {},
     "output_type": "execute_result"
    },
    {
     "data": {
      "image/png": "[encoded data removed]",
      "text/plain": [
       "<Figure size 432x288 with 1 Axes>"
      ]
     },
     "metadata": {},
     "output_type": "display_data"
    }
   ],
   "source": [
    "sns.histplot(data=runner, x='BMI')"
   ]
  },
  {
   "cell_type": "code",
   "execution_count": 78,
   "metadata": {},
   "outputs": [
    {
     "data": {
      "text/plain": [
       "22.0"
      ]
     },
     "execution_count": 78,
     "metadata": {},
     "output_type": "execute_result"
    }
   ],
   "source": [
    "runner['BMI'].median()"
   ]
  },
  {
   "cell_type": "markdown",
   "metadata": {},
   "source": [
    "Create a line for BMI = 22\n",
    "\n",
    "Weight = BMI * Height^2 / 703"
   ]
  },
  {
   "cell_type": "code",
   "execution_count": 79,
   "metadata": {},
   "outputs": [],
   "source": [
    "height_bmi = [55,60,65,70,75,80]\n",
    "weight_bmi = []\n",
    "bmi = 22\n",
    "\n",
    "for i in height_bmi:\n",
    "    wt = (bmi * i**2) / 703\n",
    "    weight_bmi.append(round(wt,0))"
   ]
  },
  {
   "cell_type": "code",
   "execution_count": 80,
   "metadata": {},
   "outputs": [
    {
     "data": {
      "text/plain": [
       "<matplotlib.legend.Legend at 0x7fd6dd87c950>"
      ]
     },
     "execution_count": 80,
     "metadata": {},
     "output_type": "execute_result"
    },
    {
     "data": {
      "image/png": "[encoded data removed]",
      "text/plain": [
       "<Figure size 432x288 with 1 Axes>"
      ]
     },
     "metadata": {},
     "output_type": "display_data"
    }
   ],
   "source": [
    "sns.scatterplot(data=runner,x='Height',y='Weight')\n",
    "line = plt.plot(height_bmi, weight_bmi, label='BMI = 22')\n",
    "plt.legend()"
   ]
  },
  {
   "cell_type": "markdown",
   "metadata": {},
   "source": [
    "There is a large range of heights and weights in the data, but the distribution of BMIs is smaller. The median BMI was 22 as you can see on the plot above. If training for a Boston time, it appears you should aim for a BMI of around 22. For comparison, Eliud Kipchoge (the fastest marathoner in the history) has a BMI of 18.6."
   ]
  },
  {
   "cell_type": "markdown",
   "metadata": {},
   "source": [
    "### Training"
   ]
  },
  {
   "cell_type": "markdown",
   "metadata": {},
   "source": [
    "#### Years Running"
   ]
  },
  {
   "cell_type": "code",
   "execution_count": 81,
   "metadata": {},
   "outputs": [
    {
     "data": {
      "text/plain": [
       "<AxesSubplot:xlabel='Years_Running', ylabel='Count'>"
      ]
     },
     "execution_count": 81,
     "metadata": {},
     "output_type": "execute_result"
    },
    {
     "data": {
      "image/png": "[encoded data removed]",
      "text/plain": [
       "<Figure size 432x288 with 1 Axes>"
      ]
     },
     "metadata": {},
     "output_type": "display_data"
    }
   ],
   "source": [
    "sns.histplot(data=runner,x='Years_Running',bins=25)"
   ]
  },
  {
   "cell_type": "markdown",
   "metadata": {},
   "source": [
    "Half of the runners achieved their Boston time within 6 years of running. Amazingly, 17 runners achieved their time within one year of running."
   ]
  },
  {
   "cell_type": "markdown",
   "metadata": {},
   "source": [
    "#### Running Program"
   ]
  },
  {
   "cell_type": "code",
   "execution_count": 82,
   "metadata": {},
   "outputs": [
    {
     "data": {
      "text/plain": [
       "<AxesSubplot:xlabel='Running_Program', ylabel='count'>"
      ]
     },
     "execution_count": 82,
     "metadata": {},
     "output_type": "execute_result"
    },
    {
     "data": {
      "image/png": "[encoded data removed]",
      "text/plain": [
       "<Figure size 432x288 with 1 Axes>"
      ]
     },
     "metadata": {},
     "output_type": "display_data"
    }
   ],
   "source": [
    "sns.countplot(data=runner, x='Running_Program')"
   ]
  },
  {
   "cell_type": "markdown",
   "metadata": {},
   "source": [
    "Calculate percentage of runners with a strict running program:"
   ]
  },
  {
   "cell_type": "code",
   "execution_count": 83,
   "metadata": {},
   "outputs": [
    {
     "data": {
      "text/plain": [
       "31.0"
      ]
     },
     "execution_count": 83,
     "metadata": {},
     "output_type": "execute_result"
    }
   ],
   "source": [
    "round(runner[runner['Running_Program'] == True]['Running_Program'].count() / runner['Running_Program'].count(),2) * 100"
   ]
  },
  {
   "cell_type": "markdown",
   "metadata": {},
   "source": [
    "Only 31% of runners in the data followed an organized running program during their training. For that group, let's look at what running programs were used to achieve their time."
   ]
  },
  {
   "cell_type": "code",
   "execution_count": 84,
   "metadata": {},
   "outputs": [
    {
     "data": {
      "text/plain": [
       "<AxesSubplot:xlabel='Running_Program_Used', ylabel='count'>"
      ]
     },
     "execution_count": 84,
     "metadata": {},
     "output_type": "execute_result"
    },
    {
     "data": {
      "image/png": "[encoded data removed]",
      "text/plain": [
       "<Figure size 1080x432 with 1 Axes>"
      ]
     },
     "metadata": {},
     "output_type": "display_data"
    }
   ],
   "source": [
    "plt.figure(figsize=(15,6))\n",
    "sns.countplot(data=program, x='Running_Program_Used',order=program['Running_Program_Used'].value_counts().iloc[:8].index)"
   ]
  },
  {
   "cell_type": "markdown",
   "metadata": {},
   "source": [
    "#### Speed Work"
   ]
  },
  {
   "cell_type": "code",
   "execution_count": 85,
   "metadata": {},
   "outputs": [
    {
     "data": {
      "text/plain": [
       "<AxesSubplot:xlabel='Speed_Work', ylabel='count'>"
      ]
     },
     "execution_count": 85,
     "metadata": {},
     "output_type": "execute_result"
    },
    {
     "data": {
      "image/png": "[encoded data removed]",
      "text/plain": [
       "<Figure size 432x288 with 1 Axes>"
      ]
     },
     "metadata": {},
     "output_type": "display_data"
    }
   ],
   "source": [
    "sns.countplot(data=runner,x='Speed_Work')"
   ]
  },
  {
   "cell_type": "markdown",
   "metadata": {},
   "source": [
    "Calculate the percentage of runners that used speed work:"
   ]
  },
  {
   "cell_type": "code",
   "execution_count": 86,
   "metadata": {},
   "outputs": [
    {
     "data": {
      "text/plain": [
       "83.0"
      ]
     },
     "execution_count": 86,
     "metadata": {},
     "output_type": "execute_result"
    }
   ],
   "source": [
    "round(runner[runner['Speed_Work'] == True]['Speed_Work'].count() / runner['Speed_Work'].count(),2) * 100"
   ]
  },
  {
   "cell_type": "markdown",
   "metadata": {},
   "source": [
    "83% of runners used speed work in their training. For this group, you can see the most popular workouts on the next chart."
   ]
  },
  {
   "cell_type": "code",
   "execution_count": 87,
   "metadata": {},
   "outputs": [
    {
     "data": {
      "text/plain": [
       "<AxesSubplot:xlabel='Speed Work', ylabel='Sum'>"
      ]
     },
     "execution_count": 87,
     "metadata": {},
     "output_type": "execute_result"
    },
    {
     "data": {
      "image/png": "[encoded data removed]",
      "text/plain": [
       "<Figure size 1080x432 with 1 Axes>"
      ]
     },
     "metadata": {},
     "output_type": "display_data"
    }
   ],
   "source": [
    "plt.figure(figsize=(15,6))\n",
    "sns.barplot(data=speed,x='Speed Work',y='Sum',order=speed['Speed Work'][:8])"
   ]
  },
  {
   "cell_type": "markdown",
   "metadata": {},
   "source": [
    "#### Cross Training"
   ]
  },
  {
   "cell_type": "code",
   "execution_count": 88,
   "metadata": {},
   "outputs": [
    {
     "data": {
      "text/plain": [
       "<AxesSubplot:xlabel='Cross_Training', ylabel='count'>"
      ]
     },
     "execution_count": 88,
     "metadata": {},
     "output_type": "execute_result"
    },
    {
     "data": {
      "image/png": "[encoded data removed]",
      "text/plain": [
       "<Figure size 432x288 with 1 Axes>"
      ]
     },
     "metadata": {},
     "output_type": "display_data"
    }
   ],
   "source": [
    "sns.countplot(data=runner,x='Cross_Training')"
   ]
  },
  {
   "cell_type": "markdown",
   "metadata": {},
   "source": [
    "Calculate percentage of runners that used cross training."
   ]
  },
  {
   "cell_type": "code",
   "execution_count": 89,
   "metadata": {
    "jupyter": {
     "source_hidden": true
    }
   },
   "outputs": [
    {
     "data": {
      "text/plain": [
       "45.0"
      ]
     },
     "execution_count": 89,
     "metadata": {},
     "output_type": "execute_result"
    }
   ],
   "source": [
    "round(runner[runner['Cross_Training'] == True]['Cross_Training'].count() / runner['Cross_Training'].count(),2) * 100"
   ]
  },
  {
   "cell_type": "markdown",
   "metadata": {},
   "source": [
    "45% of runners in the data used a type of cross training. Of that group, see the most popular types of cross training below."
   ]
  },
  {
   "cell_type": "code",
   "execution_count": 90,
   "metadata": {},
   "outputs": [
    {
     "data": {
      "text/plain": [
       "<AxesSubplot:xlabel='Cross_Training', ylabel='Sum'>"
      ]
     },
     "execution_count": 90,
     "metadata": {},
     "output_type": "execute_result"
    },
    {
     "data": {
      "image/png": "[encoded data removed]",
      "text/plain": [
       "<Figure size 1080x432 with 1 Axes>"
      ]
     },
     "metadata": {},
     "output_type": "display_data"
    }
   ],
   "source": [
    "plt.figure(figsize=(15,6))\n",
    "sns.barplot(data=crosstrain, x='Cross_Training', y='Sum', order=crosstrain['Cross_Training'][:8])"
   ]
  }
 ],
 "metadata": {
  "kernelspec": {
   "display_name": "Python 3",
   "language": "python",
   "name": "python3"
  },
  "language_info": {
   "codemirror_mode": {
    "name": "ipython",
    "version": 3
   },
   "file_extension": ".py",
   "mimetype": "text/x-python",
   "name": "python",
   "nbconvert_exporter": "python",
   "pygments_lexer": "ipython3",
   "version": "3.7.6"
  }
 },
 "nbformat": 4,
 "nbformat_minor": 4
}
