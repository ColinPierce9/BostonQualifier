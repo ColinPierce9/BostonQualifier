{
 "cells": [
  {
   "cell_type": "code",
   "execution_count": 1,
   "id": "related-ethiopia",
   "metadata": {},
   "outputs": [],
   "source": [
    "from BQ_ETL_Main import *"
   ]
  },
  {
   "cell_type": "markdown",
   "id": "capital-construction",
   "metadata": {},
   "source": [
    "Run the etl_bostondata function to extract, transfrom, and load the Boston data to the database."
   ]
  },
  {
   "cell_type": "code",
   "execution_count": 2,
   "id": "pretty-colonial",
   "metadata": {},
   "outputs": [
    {
     "name": "stdout",
     "output_type": "stream",
     "text": [
      "Boston Qualifier data successfully loaded\n"
     ]
    }
   ],
   "source": [
    "etl_bostondata()"
   ]
  },
  {
   "cell_type": "markdown",
   "id": "peripheral-glass",
   "metadata": {},
   "source": [
    "To perform analysis, extract data from the database with the extract_clean_data function."
   ]
  },
  {
   "cell_type": "code",
   "execution_count": 3,
   "id": "noticed-jimmy",
   "metadata": {},
   "outputs": [],
   "source": [
    "runner = extract_clean_data('runner')"
   ]
  }
 ],
 "metadata": {
  "kernelspec": {
   "display_name": "Python 3",
   "language": "python",
   "name": "python3"
  },
  "language_info": {
   "codemirror_mode": {
    "name": "ipython",
    "version": 3
   },
   "file_extension": ".py",
   "mimetype": "text/x-python",
   "name": "python",
   "nbconvert_exporter": "python",
   "pygments_lexer": "ipython3",
   "version": "3.7.6"
  }
 },
 "nbformat": 4,
 "nbformat_minor": 5
}
