{
 "cells": [
  {
   "cell_type": "markdown",
   "metadata": {},
   "source": [
    "# The Boston Qualifier Questionaire: Data Pipleline and Analysis"
   ]
  },
  {
   "cell_type": "markdown",
   "metadata": {},
   "source": [
    "The Boston Marathon is one of the most popular races in world. Starting in 1897, the race has drawn elite and amateur runners every year to complete the infamous 26.2 miles. \n",
    "\n",
    "For runners of all skill levels, qualifing to enter the Boston Marathon is a major accomplishment that takes dedication to achieve. In 2019, the qualifying time for men aged 18-34 was 3hrs 00mins 08secs and for women was 3hrs 30mins 08secs. That's an average mile time of 6:53 and 8:01 respectively over the 26.2 miles. These times seem unimaginable for the non-runner, but these times are designed to be achievable for non-elite runners. The Boston Athletic Association aims to allow the top 5-10% of runners to qualify for the race. How much training is required to achieve a Boston Qualifing time?\n",
    "\n",
    "The data for this analysis was obtained from miloandthecalf.com. For the past several years, the site has hosted a questionnaire for athletes that have qualified for the Boston for the first time. This will allow insight into the training habits required to qualify for the race.\n",
    "\n",
    "First, I'll walk through the full pipeline used to clean the data. Then I'll show my analysis and visualizations of any findings."
   ]
  },
  {
   "cell_type": "markdown",
   "metadata": {},
   "source": [
    "## Clean Data"
   ]
  },
  {
   "cell_type": "code",
   "execution_count": 1,
   "metadata": {},
   "outputs": [],
   "source": [
    "import pandas as pd\n",
    "import numpy as np\n",
    "import matplotlib.pyplot as plt\n",
    "import seaborn as sns\n",
    "sns.set_style('whitegrid')\n",
    "from pandas_profiling import ProfileReport\n",
    "import numpy"
   ]
  },
  {
   "cell_type": "code",
   "execution_count": 2,
   "metadata": {},
   "outputs": [],
   "source": [
    "df = pd.read_csv('bostonqual.csv')"
   ]
  },
  {
   "cell_type": "code",
   "execution_count": 3,
   "metadata": {},
   "outputs": [
    {
     "name": "stdout",
     "output_type": "stream",
     "text": [
      "<class 'pandas.core.frame.DataFrame'>\n",
      "RangeIndex: 376 entries, 0 to 375\n",
      "Data columns (total 20 columns):\n",
      " #   Column                                                                    Non-Null Count  Dtype  \n",
      "---  ------                                                                    --------------  -----  \n",
      " 0   Name                                                                      376 non-null    object \n",
      " 1   Sex:                                                                      376 non-null    object \n",
      " 2   Age (at the time of first BQ):                                            376 non-null    float64\n",
      " 3   Height (in inches):                                                       374 non-null    float64\n",
      " 4   Weight (in lbs at the time of first BQ):                                  372 non-null    float64\n",
      " 5   BMI                                                                       370 non-null    float64\n",
      " 6   At which marathon did you get your first BQ?                              374 non-null    object \n",
      " 7   How long had you been running when you ran your first BQ?                 363 non-null    object \n",
      " 8   Did you run in college or high school?                                    373 non-null    object \n",
      " 9   What was your approximate lifetime mileage at the time of your first BQ?  319 non-null    object \n",
      " 10  How many miles did you run in the year before your first BQ?              329 non-null    object \n",
      " 11  Approximately how many races did you run in that year?                    364 non-null    float64\n",
      " 12  Did you follow a canned program?                                          373 non-null    object \n",
      " 13  Which one?                                                                113 non-null    object \n",
      " 14  Did Speed work play a role?                                               350 non-null    object \n",
      " 15  What kind?                                                                210 non-null    object \n",
      " 16  Did cross training play a role in your training? If so, how?              373 non-null    object \n",
      " 17  What type of cross training                                               164 non-null    object \n",
      " 18  Did you run with a running club or utilize a coach?                       373 non-null    object \n",
      " 19  Want to read more?                                                        333 non-null    object \n",
      "dtypes: float64(5), object(15)\n",
      "memory usage: 58.9+ KB\n"
     ]
    }
   ],
   "source": [
    "df.info()"
   ]
  },
  {
   "cell_type": "markdown",
   "metadata": {},
   "source": [
    "All features will need to be renamed for convenience and some unneeded features will be removed. \n",
    "\n",
    "There are 376 total entries and most features contain nulls. Each feature will need to be analyzed to remove nulls and clean any inconsistent values. "
   ]
  },
  {
   "cell_type": "code",
   "execution_count": 4,
   "metadata": {},
   "outputs": [],
   "source": [
    "df = df.drop(['Name','Want to read more?'],axis=1)"
   ]
  },
  {
   "cell_type": "code",
   "execution_count": 5,
   "metadata": {},
   "outputs": [],
   "source": [
    "df = df.rename(columns={'Sex:':'Sex',\n",
    "                   'Age (at the time of first BQ):':'Age',\n",
    "                   'Height (in inches):':'Height',\n",
    "                   'Weight (in lbs at the time of first BQ):':'Weight',\n",
    "                   'At which marathon did you get your first BQ? ':'First Marathon',\n",
    "                   'How long had you been running when you ran your first BQ? ':'Years Running',\n",
    "                   'Did you run in college or high school?':'School Running',\n",
    "                   'What was your approximate lifetime mileage at the time of your first BQ?':'Lifetime Mileage',\n",
    "                   'How many miles did you run in the year before your first BQ?':'Year Mileage',\n",
    "                   'Approximately how many races did you run in that year?':'Amount of Races',\n",
    "                   'Did you follow a canned program? ':'Running Program',\n",
    "                   'Which one?':'Running Program Used',\n",
    "                   'Did Speed work play a role?':'Speed Work',\n",
    "                   'What kind?':'Speed Work Used',\n",
    "                   'Did cross training play a role in your training? If so, how?':'Cross Training',\n",
    "                   'What type of cross training':'Cross Training Used',\n",
    "                   'Did you run with a running club or utilize a coach?':'Running Club or Coach'})"
   ]
  },
  {
   "cell_type": "markdown",
   "metadata": {},
   "source": [
    "Next, we'll go through each feature to identify any issues with the data that need fixed."
   ]
  },
  {
   "cell_type": "markdown",
   "metadata": {},
   "source": [
    "#### Sex"
   ]
  },
  {
   "cell_type": "code",
   "execution_count": 6,
   "metadata": {},
   "outputs": [],
   "source": [
    "df['Sex'] = df['Sex'].astype(str)"
   ]
  },
  {
   "cell_type": "markdown",
   "metadata": {},
   "source": [
    "There are values entered upper and lower cased. Change these values to 'Male' and 'Female'."
   ]
  },
  {
   "cell_type": "code",
   "execution_count": 8,
   "metadata": {},
   "outputs": [],
   "source": [
    "df['Sex'].replace('m','M',inplace=True)\n",
    "df['Sex'].replace('M','Male',inplace=True)\n",
    "df['Sex'].replace('f','F',inplace=True)\n",
    "df['Sex'].replace('F','Female',inplace=True)"
   ]
  },
  {
   "cell_type": "markdown",
   "metadata": {},
   "source": [
    "#### Age"
   ]
  },
  {
   "cell_type": "code",
   "execution_count": 9,
   "metadata": {},
   "outputs": [],
   "source": [
    "df['Age'] = df['Age'].astype(int)"
   ]
  },
  {
   "cell_type": "markdown",
   "metadata": {},
   "source": [
    "#### BMI"
   ]
  },
  {
   "cell_type": "code",
   "execution_count": 14,
   "metadata": {},
   "outputs": [],
   "source": [
    "df['BMI'] = df['BMI'].round()"
   ]
  },
  {
   "cell_type": "code",
   "execution_count": 16,
   "metadata": {},
   "outputs": [
    {
     "data": {
      "text/html": [
       "<div>\n",
       "<style scoped>\n",
       "    .dataframe tbody tr th:only-of-type {\n",
       "        vertical-align: middle;\n",
       "    }\n",
       "\n",
       "    .dataframe tbody tr th {\n",
       "        vertical-align: top;\n",
       "    }\n",
       "\n",
       "    .dataframe thead th {\n",
       "        text-align: right;\n",
       "    }\n",
       "</style>\n",
       "<table border=\"1\" class=\"dataframe\">\n",
       "  <thead>\n",
       "    <tr style=\"text-align: right;\">\n",
       "      <th></th>\n",
       "      <th>Sex</th>\n",
       "      <th>Age</th>\n",
       "      <th>Height</th>\n",
       "      <th>Weight</th>\n",
       "      <th>BMI</th>\n",
       "      <th>First Marathon</th>\n",
       "      <th>Years Running</th>\n",
       "      <th>School Running</th>\n",
       "      <th>Lifetime Mileage</th>\n",
       "      <th>Year Mileage</th>\n",
       "      <th>Amount of Races</th>\n",
       "      <th>Running Program</th>\n",
       "      <th>Running Program Used</th>\n",
       "      <th>Speed Work</th>\n",
       "      <th>Speed Work Used</th>\n",
       "      <th>Cross Training</th>\n",
       "      <th>Cross Training Used</th>\n",
       "      <th>Running Club or Coach</th>\n",
       "    </tr>\n",
       "  </thead>\n",
       "  <tbody>\n",
       "    <tr>\n",
       "      <th>236</th>\n",
       "      <td>Male</td>\n",
       "      <td>24</td>\n",
       "      <td>38.0</td>\n",
       "      <td>145.0</td>\n",
       "      <td>71.0</td>\n",
       "      <td>Chicago</td>\n",
       "      <td>9</td>\n",
       "      <td>y</td>\n",
       "      <td>15000</td>\n",
       "      <td>2000</td>\n",
       "      <td>10.0</td>\n",
       "      <td>n</td>\n",
       "      <td>NaN</td>\n",
       "      <td>n</td>\n",
       "      <td>NaN</td>\n",
       "      <td>n</td>\n",
       "      <td>NaN</td>\n",
       "      <td>n</td>\n",
       "    </tr>\n",
       "    <tr>\n",
       "      <th>284</th>\n",
       "      <td>Male</td>\n",
       "      <td>48</td>\n",
       "      <td>61.0</td>\n",
       "      <td>175.0</td>\n",
       "      <td>33.0</td>\n",
       "      <td>RNR DC</td>\n",
       "      <td>3</td>\n",
       "      <td>y</td>\n",
       "      <td>NaN</td>\n",
       "      <td>NaN</td>\n",
       "      <td>2.0</td>\n",
       "      <td>n</td>\n",
       "      <td>NaN</td>\n",
       "      <td>y</td>\n",
       "      <td>tempo</td>\n",
       "      <td>y</td>\n",
       "      <td>NaN</td>\n",
       "      <td>y</td>\n",
       "    </tr>\n",
       "  </tbody>\n",
       "</table>\n",
       "</div>"
      ],
      "text/plain": [
       "      Sex  Age  Height  Weight   BMI First Marathon Years Running  \\\n",
       "236  Male   24    38.0   145.0  71.0        Chicago             9   \n",
       "284  Male   48    61.0   175.0  33.0         RNR DC             3   \n",
       "\n",
       "    School Running Lifetime Mileage Year Mileage  Amount of Races  \\\n",
       "236              y            15000         2000             10.0   \n",
       "284              y              NaN          NaN              2.0   \n",
       "\n",
       "    Running Program Running Program Used Speed Work Speed Work Used  \\\n",
       "236               n                  NaN          n             NaN   \n",
       "284               n                  NaN          y           tempo   \n",
       "\n",
       "    Cross Training Cross Training Used Running Club or Coach  \n",
       "236              n                 NaN                     n  \n",
       "284              y                 NaN                     y  "
      ]
     },
     "execution_count": 16,
     "metadata": {},
     "output_type": "execute_result"
    }
   ],
   "source": [
    "df[df['BMI'] > 30]"
   ]
  },
  {
   "cell_type": "markdown",
   "metadata": {},
   "source": [
    "These two BMIs are suspiciously high. When looking at the full data, it's due low heights and more average weights. When double checking these two rows against the source website, the heights are in fact incorrect. These are the only two points in the dataset that were found to have been incorrect.\n",
    "\n",
    "We'll fix these two entries with the correct height values and corresponding BMI."
   ]
  },
  {
   "cell_type": "code",
   "execution_count": 17,
   "metadata": {},
   "outputs": [],
   "source": [
    "df.loc[236,'Height'] = 68\n",
    "df.loc[236,'BMI'] = 22\n",
    "df.loc[284,'Height'] = 73\n",
    "df.loc[284,'BMI'] = 23"
   ]
  },
  {
   "cell_type": "markdown",
   "metadata": {},
   "source": [
    "#### First Marathon"
   ]
  },
  {
   "cell_type": "code",
   "execution_count": 19,
   "metadata": {},
   "outputs": [],
   "source": [
    "df['First Marathon'] = df['First Marathon'].astype(str)"
   ]
  },
  {
   "cell_type": "code",
   "execution_count": 20,
   "metadata": {},
   "outputs": [
    {
     "data": {
      "text/plain": [
       "210"
      ]
     },
     "execution_count": 20,
     "metadata": {},
     "output_type": "execute_result"
    }
   ],
   "source": [
    "df['First Marathon'].nunique()"
   ]
  },
  {
   "cell_type": "markdown",
   "metadata": {},
   "source": [
    "There are 210 unique values for first marathon that need to be cleaned to be consistant and standard.\n",
    "\n",
    "This can be done in the future if the information is desired."
   ]
  },
  {
   "cell_type": "markdown",
   "metadata": {},
   "source": [
    "#### Years Running"
   ]
  },
  {
   "cell_type": "code",
   "execution_count": 21,
   "metadata": {},
   "outputs": [
    {
     "data": {
      "text/plain": [
       "array(['17', '11', '7', '4', '2', '24', '14', nan, '9', '1.5', '1',\n",
       "       'on and off for years', '10', '34', '0.5', '18', '20', '6', '3',\n",
       "       '12', '13', '6.5', '44', '15', '5.5', '2.8', '5', '23', '25', '8',\n",
       "       'less than a year', '1.8', '22', '30', '3.5', '21', '2.75', '19',\n",
       "       '2.5', '38', '0.75', '7.5', '2.2', '40', '16', '42', '35', '1.3',\n",
       "       '4.5', '2.3', '37', '8.5', '9 months', '0.9', '26'], dtype=object)"
      ]
     },
     "execution_count": 21,
     "metadata": {},
     "output_type": "execute_result"
    }
   ],
   "source": [
    "df['Years Running'].unique()"
   ]
  },
  {
   "cell_type": "markdown",
   "metadata": {},
   "source": [
    "Change values that aren't numbers and round."
   ]
  },
  {
   "cell_type": "code",
   "execution_count": 22,
   "metadata": {},
   "outputs": [],
   "source": [
    "df['Years Running'] = df['Years Running'].replace({'on and off for years':'','9 months':'1','less than a year':'1'})\n",
    "df['Years Running'] = pd.to_numeric(df['Years Running'])\n",
    "df['Years Running'] = df['Years Running'].round()"
   ]
  },
  {
   "cell_type": "markdown",
   "metadata": {},
   "source": [
    "Similar to 'Sex' feature, this has upper and lower case values. Change all values to True or False. "
   ]
  },
  {
   "cell_type": "code",
   "execution_count": 24,
   "metadata": {},
   "outputs": [],
   "source": [
    "df['School Running'] = df['School Running'].replace({'n':False,'y':True,'Y':True})"
   ]
  },
  {
   "cell_type": "markdown",
   "metadata": {},
   "source": [
    "#### Lifetime Mileage"
   ]
  },
  {
   "cell_type": "code",
   "execution_count": 25,
   "metadata": {},
   "outputs": [
    {
     "data": {
      "text/plain": [
       "array([nan, '5000', '6000', '2500', '15000', '18,000', 'thousand of kms',\n",
       "       '2600', '4000', '2000', '500', '7598.6', '10000', '800', '400',\n",
       "       '9000', '3000', '2200', '8,000', '15,000', '10,000', '4500',\n",
       "       '13000', '7500', '?', '21000', '92000', '30000', '2298', '3465',\n",
       "       '2579', '8000', '7600', '2,500', '20000', '3500', '2340', '1500',\n",
       "       '13500', '3700', '12000', '40000', '6305', '5500', '5963', '5281',\n",
       "       '6440', '9500', '3473', '2790', '16000', '4300', '5,000', '7000',\n",
       "       '6118', '4,000', '7550', '30,000', '22,000', '8500', '1400', '300',\n",
       "       '16820', '1200', '24220', '17000', '28000', '18500', '1600',\n",
       "       '21840', '1000', '10500', '8700', '50000', '45000', '5300',\n",
       "       '25000', '6500', '14000', '2800', '40,000', '2300', '2485', '3728',\n",
       "       '6400', '11000', '14900', '9360', '5600', '10200', '6600', '2100',\n",
       "       '2700', '4660', '1100', '3706', '7800', '23000', '5800', '9320',\n",
       "       '38000', '12500', '1800', '22000', '20043'], dtype=object)"
      ]
     },
     "execution_count": 25,
     "metadata": {},
     "output_type": "execute_result"
    }
   ],
   "source": [
    "df['Lifetime Mileage'].unique()"
   ]
  },
  {
   "cell_type": "markdown",
   "metadata": {},
   "source": [
    "Change any non-numbers, remove any commas, and round."
   ]
  },
  {
   "cell_type": "code",
   "execution_count": 26,
   "metadata": {},
   "outputs": [],
   "source": [
    "df['Lifetime Mileage'] = df['Lifetime Mileage'].replace({'?':'','thousand of kms':''})\n",
    "df['Lifetime Mileage'] = df['Lifetime Mileage'].replace(',','',regex=True)\n",
    "df['Lifetime Mileage'] = pd.to_numeric(df['Lifetime Mileage'])\n",
    "df['Lifetime Mileage'] = df['Lifetime Mileage'].round()"
   ]
  },
  {
   "cell_type": "markdown",
   "metadata": {},
   "source": [
    "#### Year Mileage"
   ]
  },
  {
   "cell_type": "code",
   "execution_count": 28,
   "metadata": {},
   "outputs": [
    {
     "data": {
      "text/plain": [
       "array(['2740', nan, '800', '2100', '1250', '1000', '2150',\n",
       "       '\"couple of thousand kms\"', '1200', '1300', '1500', '682', '300',\n",
       "       '3088.8', '1629', '400', '900', '2000', '1313', '450', '28',\n",
       "       '1750', '2800', '1400', '500', '3000', '2080', '1800', '1262',\n",
       "       '1172', '2500', '1942', '2385', '1016', '3500', '1700', '4200',\n",
       "       '3200', '2700', '2340', '1730', '550', '3640', '2372', '1129',\n",
       "       '3100', '745', '2085', '1171', '1722', '1350', '2200', '950',\n",
       "       '2272', '1761', '2300', '750', '1600', '2650', '14000', '2037',\n",
       "       '2900', '1484', '1102', '1972', '700', '1997', '3400', '0', '3800',\n",
       "       '1150', '1560', '1379', '2057', '2600', '3700', '5000', '3650',\n",
       "       '1382', '1900', '600', '2845', '3120', '2400', '4000', '1568',\n",
       "       '1168', '1100', '1614', '1180', '425', '960', '1003', '1470',\n",
       "       '1864', '1870', '2059', '1436', '2835', '1162', '1739', '1450',\n",
       "       '1185', '2112', '876'], dtype=object)"
      ]
     },
     "execution_count": 28,
     "metadata": {},
     "output_type": "execute_result"
    }
   ],
   "source": [
    "df['Year Mileage'].unique()"
   ]
  },
  {
   "cell_type": "markdown",
   "metadata": {},
   "source": [
    "Change any non-numbers and round."
   ]
  },
  {
   "cell_type": "code",
   "execution_count": 29,
   "metadata": {},
   "outputs": [],
   "source": [
    "df['Year Mileage'] = df['Year Mileage'].replace('\"couple of thousand kms\"','')\n",
    "df['Year Mileage'] = pd.to_numeric(df['Year Mileage'])\n",
    "df['Year Mileage'] = df['Year Mileage'].round()"
   ]
  },
  {
   "cell_type": "code",
   "execution_count": 31,
   "metadata": {},
   "outputs": [
    {
     "data": {
      "text/plain": [
       "14000.0"
      ]
     },
     "execution_count": 31,
     "metadata": {},
     "output_type": "execute_result"
    }
   ],
   "source": [
    "df['Year Mileage'].max()"
   ]
  },
  {
   "cell_type": "code",
   "execution_count": 32,
   "metadata": {},
   "outputs": [
    {
     "data": {
      "text/html": [
       "<div>\n",
       "<style scoped>\n",
       "    .dataframe tbody tr th:only-of-type {\n",
       "        vertical-align: middle;\n",
       "    }\n",
       "\n",
       "    .dataframe tbody tr th {\n",
       "        vertical-align: top;\n",
       "    }\n",
       "\n",
       "    .dataframe thead th {\n",
       "        text-align: right;\n",
       "    }\n",
       "</style>\n",
       "<table border=\"1\" class=\"dataframe\">\n",
       "  <thead>\n",
       "    <tr style=\"text-align: right;\">\n",
       "      <th></th>\n",
       "      <th>Sex</th>\n",
       "      <th>Age</th>\n",
       "      <th>Height</th>\n",
       "      <th>Weight</th>\n",
       "      <th>BMI</th>\n",
       "      <th>First Marathon</th>\n",
       "      <th>Years Running</th>\n",
       "      <th>School Running</th>\n",
       "      <th>Lifetime Mileage</th>\n",
       "      <th>Year Mileage</th>\n",
       "      <th>Amount of Races</th>\n",
       "      <th>Running Program</th>\n",
       "      <th>Running Program Used</th>\n",
       "      <th>Speed Work</th>\n",
       "      <th>Speed Work Used</th>\n",
       "      <th>Cross Training</th>\n",
       "      <th>Cross Training Used</th>\n",
       "      <th>Running Club or Coach</th>\n",
       "    </tr>\n",
       "  </thead>\n",
       "  <tbody>\n",
       "    <tr>\n",
       "      <th>129</th>\n",
       "      <td>Male</td>\n",
       "      <td>28</td>\n",
       "      <td>72.0</td>\n",
       "      <td>165.0</td>\n",
       "      <td>22.0</td>\n",
       "      <td>Carolina Marathon 1990</td>\n",
       "      <td>14.0</td>\n",
       "      <td>True</td>\n",
       "      <td>30000.0</td>\n",
       "      <td>14000.0</td>\n",
       "      <td>10.0</td>\n",
       "      <td>n</td>\n",
       "      <td>NaN</td>\n",
       "      <td>y</td>\n",
       "      <td>fartleks, track work, hill</td>\n",
       "      <td>y</td>\n",
       "      <td>cycling, swimming</td>\n",
       "      <td>n</td>\n",
       "    </tr>\n",
       "  </tbody>\n",
       "</table>\n",
       "</div>"
      ],
      "text/plain": [
       "      Sex  Age  Height  Weight   BMI          First Marathon  Years Running  \\\n",
       "129  Male   28    72.0   165.0  22.0  Carolina Marathon 1990           14.0   \n",
       "\n",
       "    School Running  Lifetime Mileage  Year Mileage  Amount of Races  \\\n",
       "129           True           30000.0       14000.0             10.0   \n",
       "\n",
       "    Running Program Running Program Used Speed Work  \\\n",
       "129               n                  NaN          y   \n",
       "\n",
       "                Speed Work Used Cross Training Cross Training Used  \\\n",
       "129  fartleks, track work, hill              y   cycling, swimming   \n",
       "\n",
       "    Running Club or Coach  \n",
       "129                     n  "
      ]
     },
     "execution_count": 32,
     "metadata": {},
     "output_type": "execute_result"
    }
   ],
   "source": [
    "df[df['Year Mileage'] == 14000]"
   ]
  },
  {
   "cell_type": "markdown",
   "metadata": {},
   "source": [
    "That's a lot of miles in one year! Checking this data point against the original site data, this is another error. This should actually be 1400. "
   ]
  },
  {
   "cell_type": "code",
   "execution_count": 33,
   "metadata": {},
   "outputs": [],
   "source": [
    "df.loc[129,'Year Mileage'] = 1400"
   ]
  },
  {
   "cell_type": "markdown",
   "metadata": {},
   "source": [
    "#### Amount of Races"
   ]
  },
  {
   "cell_type": "code",
   "execution_count": 35,
   "metadata": {},
   "outputs": [
    {
     "data": {
      "text/plain": [
       "2300.0"
      ]
     },
     "execution_count": 35,
     "metadata": {},
     "output_type": "execute_result"
    }
   ],
   "source": [
    "df['Amount of Races'].max()"
   ]
  },
  {
   "cell_type": "markdown",
   "metadata": {},
   "source": [
    "This can't be possible. Can't confirm what the actual value should be, so this point will be changed to null."
   ]
  },
  {
   "cell_type": "code",
   "execution_count": 36,
   "metadata": {},
   "outputs": [],
   "source": [
    "df['Amount of Races'] = df['Amount of Races'].replace(2300.0,None)"
   ]
  },
  {
   "cell_type": "markdown",
   "metadata": {},
   "source": [
    "#### Running Program"
   ]
  },
  {
   "cell_type": "code",
   "execution_count": 37,
   "metadata": {},
   "outputs": [],
   "source": [
    "df['Running Program'] = df['Running Program'].replace({'y':True,'n':False,'Y':True})"
   ]
  },
  {
   "cell_type": "markdown",
   "metadata": {},
   "source": [
    "#### Running Program Used"
   ]
  },
  {
   "cell_type": "code",
   "execution_count": 38,
   "metadata": {},
   "outputs": [
    {
     "data": {
      "text/plain": [
       "array([\"Mcmillan's You (but faster)\", nan, 'Hal Higdon Advanced',\n",
       "       'hal higdon', 'my asics online', 'Pfitzinger 55/18',\n",
       "       'hal higdon advanced 1', 'hansons', 'hal higdon advanced',\n",
       "       'run less run faster', 'mcmillian', 'Run Less Run Faster', 'FIRST',\n",
       "       'Pfitzinger 55/85', 'nike+', 'Hal Higdon Intermediate 2',\n",
       "       \"runner's world smart coach\",\n",
       "       '\"I Don\\'t Know What The Fuck I\\'m Doing But I Love Running.\"',\n",
       "       'NYRR Advanced A', ' FIRST', 'Pftizinger 18/55',\n",
       "       \"Customized Jack Daniel's RunSMART.com\", 'n', 'BAA', 'pftiz',\n",
       "       'pfitz 18/70', 'run less, run faster', 'Hanson Advanced',\n",
       "       'pftizinger 18/55', 'Pfitzinger 18/70', 'Pfitzinger 18/55',\n",
       "       'pfitzinger 18/55', 'garmin intermediate ',\n",
       "       'baystate program by John Barbour', 'Hansons', 'Hal Higdon',\n",
       "       'pfitzinger 18/70', 'Jack Daneis 2Q', 'pfitzinger 55',\n",
       "       \"hanson's advanced\", 'pfitzinger 18/85',\n",
       "       'faster from 5k to marathon', 'runners world', 'Hanson', 'higdons',\n",
       "       'Brooks Hansons', 'asics', 'developed by coach', 'cool running',\n",
       "       'Howard Nippert', 'pfitz 12/70', 'hanson', 'Pfitz',\n",
       "       'Hal Higdon Advanced 1', 'pfitzinger', 'Pfitzinger', 'pfitznger',\n",
       "       'Pfitz 18/70', 'lydiard', 'pfitzgerald',\n",
       "       'hal hidgon intermediate 2', 'Jack Daniels', 'track shack',\n",
       "       'run fast run slow', 'Pfitz 18/55', 'RW Run Smart', 'Pfitz 12/55',\n",
       "       'Pfitzinger 12/70', 'higdon advanced', 'hansons beginner',\n",
       "       ' Run with Power', 'Masters Marathon', 'Revel Race Series',\n",
       "       'Jack Daniels A Plan', 'Glovers Vetran Marathoner', 'higdon',\n",
       "       'nike', 'Nike', 'nike advanced', 'ha;h hogdon'], dtype=object)"
      ]
     },
     "execution_count": 38,
     "metadata": {},
     "output_type": "execute_result"
    }
   ],
   "source": [
    "df['Running Program Used'].unique()"
   ]
  },
  {
   "cell_type": "markdown",
   "metadata": {},
   "source": [
    "There's many different programs entered here that are spelled or submitted differently and will need a lot of cleaning to standardize. \n",
    "\n",
    "We'll create a two new dataframes for analyzing running programs. "
   ]
  },
  {
   "cell_type": "code",
   "execution_count": 39,
   "metadata": {},
   "outputs": [],
   "source": [
    "run_program_df = pd.DataFrame(data=df['Running Program Used'])\n",
    "run_program_df = run_program_df.dropna()\n",
    "run_program_df.reset_index(drop=True,inplace=True)"
   ]
  },
  {
   "cell_type": "code",
   "execution_count": 40,
   "metadata": {},
   "outputs": [],
   "source": [
    "total = df['Running Program Used'].size\n",
    "with_program = run_program_df.size\n",
    "without_program = total - with_program"
   ]
  },
  {
   "cell_type": "code",
   "execution_count": 41,
   "metadata": {},
   "outputs": [],
   "source": [
    "program_used = pd.DataFrame(data={'Used Program':[with_program,with_program/total],\n",
    "                                  'No Program':[without_program,without_program/total]})\n",
    "program_used.index = ['Total','Percent of Total']"
   ]
  },
  {
   "cell_type": "code",
   "execution_count": 42,
   "metadata": {},
   "outputs": [
    {
     "data": {
      "text/html": [
       "<div>\n",
       "<style scoped>\n",
       "    .dataframe tbody tr th:only-of-type {\n",
       "        vertical-align: middle;\n",
       "    }\n",
       "\n",
       "    .dataframe tbody tr th {\n",
       "        vertical-align: top;\n",
       "    }\n",
       "\n",
       "    .dataframe thead th {\n",
       "        text-align: right;\n",
       "    }\n",
       "</style>\n",
       "<table border=\"1\" class=\"dataframe\">\n",
       "  <thead>\n",
       "    <tr style=\"text-align: right;\">\n",
       "      <th></th>\n",
       "      <th>Used Program</th>\n",
       "      <th>No Program</th>\n",
       "    </tr>\n",
       "  </thead>\n",
       "  <tbody>\n",
       "    <tr>\n",
       "      <th>Total</th>\n",
       "      <td>113.0</td>\n",
       "      <td>263.0</td>\n",
       "    </tr>\n",
       "    <tr>\n",
       "      <th>Percent of Total</th>\n",
       "      <td>0.3</td>\n",
       "      <td>0.7</td>\n",
       "    </tr>\n",
       "  </tbody>\n",
       "</table>\n",
       "</div>"
      ],
      "text/plain": [
       "                  Used Program  No Program\n",
       "Total                    113.0       263.0\n",
       "Percent of Total           0.3         0.7"
      ]
     },
     "execution_count": 42,
     "metadata": {},
     "output_type": "execute_result"
    }
   ],
   "source": [
    "program_used.round(2)\n"
   ]
  },
  {
   "cell_type": "code",
   "execution_count": 43,
   "metadata": {},
   "outputs": [],
   "source": [
    "run_program_df['Running Program Used'] = run_program_df['Running Program Used'].str.lower()"
   ]
  },
  {
   "cell_type": "markdown",
   "metadata": {},
   "source": [
    "Change any values that won't be picked up and changed by the pipeline."
   ]
  },
  {
   "cell_type": "code",
   "execution_count": 44,
   "metadata": {},
   "outputs": [],
   "source": [
    "run_program_df['Running Program Used'].replace({'pftizinger 18/55':'pfitz','pftiz':'pfitz','hal hidgon intermediate 2':'higdon',\n",
    "                                                'run less run faster':'first','run less, run faster':'first',\n",
    "                                                'faster from 5k to marathon':'Hudson',\n",
    "                                                \"runner's world smart coach\":'Runners World Smart Coach',\n",
    "                                                'runners world':'Runners World Smart Coach','rw run smart':'jack',\n",
    "                                                ' run with power':'run with power','ha;h hogdon':'higdon'},\n",
    "                                               inplace=True)"
   ]
  },
  {
   "cell_type": "markdown",
   "metadata": {},
   "source": [
    "This list of tuples links possible words contained in the data values that will be changed to a new consistent value."
   ]
  },
  {
   "cell_type": "code",
   "execution_count": 45,
   "metadata": {},
   "outputs": [],
   "source": [
    "program_tup_list = [('Nike','nike'),('McMillan','mcmillan'),('McMillan','mcmillian'),('Hal Higdon','higdon'),('Hanson','hanson'),\n",
    "                ('Pfitzinger','pfitz'),('MY ASICS','asic'),('NY Road Runners','nyrr'),('Boston Athletic Association','baa'),\n",
    "                ('Jack Daniels','jack'),('FIRST','first'),\n",
    "                ('Garmin','garmin'),('Baystate Run Program','baystate'),('Cool Running','cool'),('Howard Nippert','nippert'),\n",
    "                ('Lydiard','lydiard'),('Track Shack','shack'),('Run with Power','run with power'),('Revel Race Series','revel'),\n",
    "                (\"Glover's\",'glover')]"
   ]
  },
  {
   "cell_type": "markdown",
   "metadata": {},
   "source": [
    "Clean data."
   ]
  },
  {
   "cell_type": "code",
   "execution_count": 46,
   "metadata": {},
   "outputs": [],
   "source": [
    "for i,j in program_tup_list:\n",
    "    run_program_df['Running Program Used'] = run_program_df['Running Program Used'].apply(lambda x: i if j in x else x)"
   ]
  },
  {
   "cell_type": "code",
   "execution_count": 47,
   "metadata": {},
   "outputs": [],
   "source": [
    "program_list = [sub[0] for sub in program_tup_list]"
   ]
  },
  {
   "cell_type": "code",
   "execution_count": 48,
   "metadata": {},
   "outputs": [],
   "source": [
    "run_program_df['Running Program Used'] = run_program_df[run_program_df['Running Program Used'].isin(program_list)]"
   ]
  },
  {
   "cell_type": "code",
   "execution_count": 49,
   "metadata": {},
   "outputs": [],
   "source": [
    "run_program_df['Running Program Used'].dropna(inplace=True)"
   ]
  },
  {
   "cell_type": "markdown",
   "metadata": {},
   "source": [
    "#### Speed Work"
   ]
  },
  {
   "cell_type": "code",
   "execution_count": 51,
   "metadata": {},
   "outputs": [],
   "source": [
    "df['Speed Work'] = df['Speed Work'].replace({'y':True,'Y':True,'n':False,'N':False})"
   ]
  },
  {
   "cell_type": "markdown",
   "metadata": {},
   "source": [
    "#### Speed Work Used "
   ]
  },
  {
   "cell_type": "code",
   "execution_count": 52,
   "metadata": {},
   "outputs": [
    {
     "data": {
      "text/plain": [
       "array(['tempo, intervals', 'two speed workouts a week', nan,\n",
       "       'tempo runs, marathon pace', 'mile repeats', 'progressive',\n",
       "       'yasso 800s', 'tempo', 'tempo, fartleks, intervals',\n",
       "       'lactate threshold', 'mile repeats; 800m repeats',\n",
       "       'vo2max; 6x600 at 5k pace', 'hills, long runs', 'hills',\n",
       "       'tempo, mile repeats', 'intervals', 'marathon pace',\n",
       "       'intervals, tempo', 'hills, fartleks',\n",
       "       'intervals, fartleks, hills', 'track workouts',\n",
       "       'intervals, fartleks', 'track intervals', 'tempo MP long runs',\n",
       "       'Marathon pace', \"plan's workout\", 'intervals weekly',\n",
       "       'marathon pace runs', 'tempo, hills, intervals',\n",
       "       'tempo runs, intervals', 'speed work, tempo run, ',\n",
       "       'tempo, track work, hills', 'track work, tempo', '400 repeats',\n",
       "       'weekly workout of 800, 1 mile, 1.5 mile, or 2 mile repeats',\n",
       "       'tempo, fartlek', '800s, tempo, mile repeats',\n",
       "       'lactate threshold workouts', 'fartleks, 800m repeats',\n",
       "       'Intervals', 'intervals, fast finish', 'tempo runs, track work',\n",
       "       'fartleks, track work, hill', 'fartleks, tempo, intervals',\n",
       "       'mp long runs, ', 'track work, marathon pace ', 'tempo, 800s',\n",
       "       'tempo runs', 'Yasso 800s', 'track work, mile repeats',\n",
       "       'tempo, track work', '800s', 'fartleks', 'track work',\n",
       "       'track work; hills', 'track work, marathon pace, tempo', 'tempo, ',\n",
       "       '800s, ', 'track work, tempo runs', 'tempo, hills, track',\n",
       "       'tempo, strides, track', 'tempo, threshold', 'tempo, track',\n",
       "       'tempos, intervals, ', 'tempo, hills, track, ',\n",
       "       'track; mile repeats', 'intervals; tempo',\n",
       "       'track work, marathon pace', 'track work, tempo, ', '5k pace',\n",
       "       'aerobic threshold', 'Tempo runs', 'race pace',\n",
       "       'mile repeats, track work, ', 'tempos, short strides',\n",
       "       'tempos, track work', 'tempo, hills', 'hill repeats',\n",
       "       '800 repeats', 'track', '5k pace and hm pace', 'track work outs',\n",
       "       'Tempo, mile repeats', 'vo2 max, tempo', 'tempo, marathon pace',\n",
       "       'strides', 'tempo, lactate threshold', 'speed work',\n",
       "       'MP, Track work', 'vo2 max 1000m '], dtype=object)"
      ]
     },
     "execution_count": 52,
     "metadata": {},
     "output_type": "execute_result"
    }
   ],
   "source": [
    "df['Speed Work Used'].unique()"
   ]
  },
  {
   "cell_type": "code",
   "execution_count": 53,
   "metadata": {},
   "outputs": [],
   "source": [
    "speed_work_df = pd.DataFrame(data=df['Speed Work Used'])\n",
    "speed_work_df = speed_work_df.dropna()\n",
    "speed_work_df = speed_work_df.reset_index(drop=True)"
   ]
  },
  {
   "cell_type": "code",
   "execution_count": 54,
   "metadata": {},
   "outputs": [],
   "source": [
    "speed_total = df['Speed Work Used'].size\n",
    "speed_with_program = speed_work_df.size\n",
    "speed_without_program = speed_total - speed_with_program"
   ]
  },
  {
   "cell_type": "code",
   "execution_count": 55,
   "metadata": {},
   "outputs": [],
   "source": [
    "speed_program_used = pd.DataFrame(data={'Used Speed Work':[speed_with_program,speed_with_program/speed_total],\n",
    "                                  'No Speed Work':[speed_without_program,speed_without_program/speed_total]})\n",
    "speed_program_used.index = ['Total','Percent of Total']"
   ]
  },
  {
   "cell_type": "code",
   "execution_count": 56,
   "metadata": {},
   "outputs": [
    {
     "data": {
      "text/html": [
       "<div>\n",
       "<style scoped>\n",
       "    .dataframe tbody tr th:only-of-type {\n",
       "        vertical-align: middle;\n",
       "    }\n",
       "\n",
       "    .dataframe tbody tr th {\n",
       "        vertical-align: top;\n",
       "    }\n",
       "\n",
       "    .dataframe thead th {\n",
       "        text-align: right;\n",
       "    }\n",
       "</style>\n",
       "<table border=\"1\" class=\"dataframe\">\n",
       "  <thead>\n",
       "    <tr style=\"text-align: right;\">\n",
       "      <th></th>\n",
       "      <th>Used Speed Work</th>\n",
       "      <th>No Speed Work</th>\n",
       "    </tr>\n",
       "  </thead>\n",
       "  <tbody>\n",
       "    <tr>\n",
       "      <th>Total</th>\n",
       "      <td>210.0</td>\n",
       "      <td>166.0</td>\n",
       "    </tr>\n",
       "    <tr>\n",
       "      <th>Percent of Total</th>\n",
       "      <td>0.6</td>\n",
       "      <td>0.4</td>\n",
       "    </tr>\n",
       "  </tbody>\n",
       "</table>\n",
       "</div>"
      ],
      "text/plain": [
       "                  Used Speed Work  No Speed Work\n",
       "Total                       210.0          166.0\n",
       "Percent of Total              0.6            0.4"
      ]
     },
     "execution_count": 56,
     "metadata": {},
     "output_type": "execute_result"
    }
   ],
   "source": [
    "speed_program_used.round(1)"
   ]
  },
  {
   "cell_type": "markdown",
   "metadata": {},
   "source": [
    "Similar data clean to the 'Running Program Used' feature will be used here in the future to classify each type of workout used by each person. The difference will be adding a column for each speed work used as dummy variables in order to assign multiple workouts to each row. "
   ]
  },
  {
   "cell_type": "code",
   "execution_count": 57,
   "metadata": {},
   "outputs": [],
   "source": [
    "speed_work_df['Speed Work Used'] = speed_work_df['Speed Work Used'].str.lower()"
   ]
  },
  {
   "cell_type": "code",
   "execution_count": 58,
   "metadata": {},
   "outputs": [],
   "source": [
    "speed_tup_list = [('Mile Repeats','mile'),\n",
    "                  ('Tempo Runs','tempo'),\n",
    "                  ('800m Repeats','800'),\n",
    "                  ('Marathon Pace','marathon'),\n",
    "                  ('Yasso 800s','yasso'),\n",
    "                  ('Fartleks','fartlek'),\n",
    "                  ('Hill Repeats','hill'),\n",
    "                  ('400m Repeats','400'),\n",
    "                  ('Lactate Threshold','threshold'),\n",
    "                  ('Intervals',('interval','v02 max'))]"
   ]
  },
  {
   "cell_type": "code",
   "execution_count": 59,
   "metadata": {},
   "outputs": [
    {
     "name": "stderr",
     "output_type": "stream",
     "text": [
      "/Users/colinpierce/anaconda3/lib/python3.7/site-packages/ipykernel_launcher.py:7: SettingWithCopyWarning: \n",
      "A value is trying to be set on a copy of a slice from a DataFrame\n",
      "\n",
      "See the caveats in the documentation: https://pandas.pydata.org/pandas-docs/stable/user_guide/indexing.html#returning-a-view-versus-a-copy\n",
      "  import sys\n",
      "/Users/colinpierce/anaconda3/lib/python3.7/site-packages/ipykernel_launcher.py:12: SettingWithCopyWarning: \n",
      "A value is trying to be set on a copy of a slice from a DataFrame\n",
      "\n",
      "See the caveats in the documentation: https://pandas.pydata.org/pandas-docs/stable/user_guide/indexing.html#returning-a-view-versus-a-copy\n",
      "  if sys.path[0] == '':\n"
     ]
    }
   ],
   "source": [
    "for j,k in speed_tup_list:\n",
    "    speed_work_df[j] = False\n",
    "    for i in range(len(speed_work_df['Speed Work Used'])-1):\n",
    "        \n",
    "        if type(k) == str:\n",
    "            if k in speed_work_df['Speed Work Used'][i]:\n",
    "                speed_work_df[j][i] = True\n",
    "                \n",
    "        else:\n",
    "            for x in k:\n",
    "                if x in speed_work_df['Speed Work Used'][i]:\n",
    "                    speed_work_df[j][i] = True"
   ]
  },
  {
   "cell_type": "code",
   "execution_count": 61,
   "metadata": {},
   "outputs": [],
   "source": [
    "speed_list = []\n",
    "for i in speed_work_df.columns:\n",
    "    speed_list.append(i)"
   ]
  },
  {
   "cell_type": "code",
   "execution_count": 62,
   "metadata": {},
   "outputs": [],
   "source": [
    "sum_speed_list = []\n",
    "speed_list = speed_list[1:]\n",
    "\n",
    "for i in speed_list:\n",
    "    sum_speed_list.append(speed_work_df[i].sum())"
   ]
  },
  {
   "cell_type": "code",
   "execution_count": 63,
   "metadata": {},
   "outputs": [],
   "source": [
    "speed_sum_df = pd.DataFrame(list(zip(speed_list,sum_speed_list)),columns=['Speed Work','Sum']).sort_values(by='Sum',ascending=False)"
   ]
  },
  {
   "cell_type": "markdown",
   "metadata": {},
   "source": [
    "#### Cross Training"
   ]
  },
  {
   "cell_type": "code",
   "execution_count": 65,
   "metadata": {},
   "outputs": [],
   "source": [
    "df['Cross Training'] = df['Cross Training'].replace({'y':True,'Y':True,'n':False,'N':False})"
   ]
  },
  {
   "cell_type": "markdown",
   "metadata": {},
   "source": [
    "#### Cross Training Used"
   ]
  },
  {
   "cell_type": "code",
   "execution_count": 66,
   "metadata": {},
   "outputs": [
    {
     "data": {
      "text/plain": [
       "array(['swimming, core, ', 'rock climbing', 'spin class', nan, 'cycling',\n",
       "       'weights, aerobics', 'bodyweight', 'swimming, biking',\n",
       "       'strength training', 'swimming, cycling',\n",
       "       'aerobics and zumba classes', 'swimming, erg, spin class', 'core',\n",
       "       'weights, eliptical', 'cycling, swimming',\n",
       "       'spin class; strength training', 'weight training, cycling',\n",
       "       'swimming, lifting', 'bootcamp',\n",
       "       'aerobic classes, strength training', 'cross country skiing',\n",
       "       'some swimming and biking', 'soccer; rock climbing', 'weights',\n",
       "       'increased flexibility, range of motion and core, adductor, illiopsoas strength.',\n",
       "       'yoga', 'strength', 'weight lifting', 'crossfit',\n",
       "       'cycling, weights, core', 'cycling, weights', 'bodyweight circuit',\n",
       "       'aerobics', 'trx', 'core, weights', 'core, cycling',\n",
       "       'weights, cycling', 'mountain biking', 'weights, core',\n",
       "       'core, swimming, cycling', 'rowing, biking, swimming',\n",
       "       'swimming, stationary bike', 'eliptical', 'pilates',\n",
       "       'weight training', 'weightlifting', 'yoga, mma',\n",
       "       'cross country skiiing', 'weight training, basketball',\n",
       "       'pilates, core', 'swiming core', 'n', 'Bodyweight work',\n",
       "       'swimming', 'strength training ', 'weighlifting',\n",
       "       'swimming, running', 'pool running', 'climbing, cycling',\n",
       "       'weight trainig', 'biking, weights', 'hiking, yoga',\n",
       "       'pilates, yoga', 'swimming, surfing', 'hiking', 'swimming biking',\n",
       "       'weight lifting, yoga, swimming', ' trx ', 'cycling, climbing',\n",
       "       'spin classes', 'cycling. swimming', 'hockey', 'barre classes',\n",
       "       'basketball, soccer, cycling',\n",
       "       'cycling, swimming, weight training', 'lifting, core',\n",
       "       'cycling, basketball', ' weightlifting', 'swimming, weights',\n",
       "       'walking', 'sauna ', 'weight training ',\n",
       "       'swimming, biking, strength training', 'swiming, cycling'],\n",
       "      dtype=object)"
      ]
     },
     "execution_count": 66,
     "metadata": {},
     "output_type": "execute_result"
    }
   ],
   "source": [
    "df['Cross Training Used'].unique()"
   ]
  },
  {
   "cell_type": "code",
   "execution_count": 67,
   "metadata": {},
   "outputs": [],
   "source": [
    "cross_training_df = pd.DataFrame(data=df['Cross Training Used'])\n",
    "cross_training_df = cross_training_df.dropna()\n",
    "cross_training_df = cross_training_df.reset_index(drop=True)"
   ]
  },
  {
   "cell_type": "code",
   "execution_count": 68,
   "metadata": {},
   "outputs": [],
   "source": [
    "cross_total = df['Cross Training Used'].size\n",
    "cross_with = cross_training_df.size\n",
    "cross_without = cross_total - cross_with"
   ]
  },
  {
   "cell_type": "code",
   "execution_count": 69,
   "metadata": {},
   "outputs": [],
   "source": [
    "cross_training_used = pd.DataFrame(data={'Used Cross Training':[cross_with,cross_with/cross_total],\n",
    "                                  'No Cross Training':[cross_without,cross_without/cross_total]})\n",
    "cross_training_used.index = ['Total','Percent of Total']"
   ]
  },
  {
   "cell_type": "code",
   "execution_count": 70,
   "metadata": {},
   "outputs": [
    {
     "data": {
      "text/html": [
       "<div>\n",
       "<style scoped>\n",
       "    .dataframe tbody tr th:only-of-type {\n",
       "        vertical-align: middle;\n",
       "    }\n",
       "\n",
       "    .dataframe tbody tr th {\n",
       "        vertical-align: top;\n",
       "    }\n",
       "\n",
       "    .dataframe thead th {\n",
       "        text-align: right;\n",
       "    }\n",
       "</style>\n",
       "<table border=\"1\" class=\"dataframe\">\n",
       "  <thead>\n",
       "    <tr style=\"text-align: right;\">\n",
       "      <th></th>\n",
       "      <th>Used Cross Training</th>\n",
       "      <th>No Cross Training</th>\n",
       "    </tr>\n",
       "  </thead>\n",
       "  <tbody>\n",
       "    <tr>\n",
       "      <th>Total</th>\n",
       "      <td>164.0</td>\n",
       "      <td>212.0</td>\n",
       "    </tr>\n",
       "    <tr>\n",
       "      <th>Percent of Total</th>\n",
       "      <td>0.4</td>\n",
       "      <td>0.6</td>\n",
       "    </tr>\n",
       "  </tbody>\n",
       "</table>\n",
       "</div>"
      ],
      "text/plain": [
       "                  Used Cross Training  No Cross Training\n",
       "Total                           164.0              212.0\n",
       "Percent of Total                  0.4                0.6"
      ]
     },
     "execution_count": 70,
     "metadata": {},
     "output_type": "execute_result"
    }
   ],
   "source": [
    "cross_training_used.round(1)"
   ]
  },
  {
   "cell_type": "markdown",
   "metadata": {},
   "source": [
    "In order to clean the Cross Training Used to analyze which activites were used, we'll create a new dataset that will have dummy features to indicate each activity that is used by each row. This allows multiple activities to be indicated."
   ]
  },
  {
   "cell_type": "code",
   "execution_count": 71,
   "metadata": {},
   "outputs": [],
   "source": [
    "cross_training_df['Cross Training Used'] = cross_training_df['Cross Training Used'].str.lower()"
   ]
  },
  {
   "cell_type": "markdown",
   "metadata": {},
   "source": [
    "Tuple list containing each activity we will be identifing from the data."
   ]
  },
  {
   "cell_type": "code",
   "execution_count": 72,
   "metadata": {},
   "outputs": [],
   "source": [
    "cross_tup_list = [('Swimming','swim'),\n",
    "                  ('Strength Training',('core','lift','crossfit','weights','weight','trx','erg','row')),\n",
    "                  ('Rock Climbing','climb'),\n",
    "                  ('Cycling',('spin','biking','cycling','eliptical','bike')),\n",
    "                  ('Aerobics',('aerobic','pool')),\n",
    "                  ('Skiing','ski'),\n",
    "                  ('Soccer','soccer'),\n",
    "                  ('Yoga','yoga'),\n",
    "                  ('Pilates','pilates'),\n",
    "                  ('MMA','mma'),\n",
    "                  ('Basketball','basketball'),\n",
    "                  ('Hockey','hockey'),\n",
    "                  ('Boot Camp','bootcamp')]"
   ]
  },
  {
   "cell_type": "markdown",
   "metadata": {},
   "source": [
    "Apply tuple list to the cross training dataframe to populate with True or False for each activity."
   ]
  },
  {
   "cell_type": "code",
   "execution_count": 73,
   "metadata": {},
   "outputs": [
    {
     "name": "stderr",
     "output_type": "stream",
     "text": [
      "/Users/colinpierce/anaconda3/lib/python3.7/site-packages/ipykernel_launcher.py:7: SettingWithCopyWarning: \n",
      "A value is trying to be set on a copy of a slice from a DataFrame\n",
      "\n",
      "See the caveats in the documentation: https://pandas.pydata.org/pandas-docs/stable/user_guide/indexing.html#returning-a-view-versus-a-copy\n",
      "  import sys\n",
      "/Users/colinpierce/anaconda3/lib/python3.7/site-packages/ipykernel_launcher.py:12: SettingWithCopyWarning: \n",
      "A value is trying to be set on a copy of a slice from a DataFrame\n",
      "\n",
      "See the caveats in the documentation: https://pandas.pydata.org/pandas-docs/stable/user_guide/indexing.html#returning-a-view-versus-a-copy\n",
      "  if sys.path[0] == '':\n"
     ]
    }
   ],
   "source": [
    "for j,k in cross_tup_list:\n",
    "    cross_training_df[j] = False\n",
    "    for i in range(len(cross_training_df['Cross Training Used'])-1):\n",
    "        \n",
    "        if type(k) == str:\n",
    "            if k in cross_training_df['Cross Training Used'][i]:\n",
    "                cross_training_df[j][i] = True\n",
    "                \n",
    "        else:\n",
    "            for x in k:\n",
    "                if x in cross_training_df['Cross Training Used'][i]:\n",
    "                    cross_training_df[j][i] = True"
   ]
  },
  {
   "cell_type": "markdown",
   "metadata": {},
   "source": [
    "Create a new dataframe to count each activity."
   ]
  },
  {
   "cell_type": "code",
   "execution_count": 75,
   "metadata": {},
   "outputs": [],
   "source": [
    "cross_list = []\n",
    "for i in cross_training_df.columns:\n",
    "    cross_list.append(i)"
   ]
  },
  {
   "cell_type": "code",
   "execution_count": 76,
   "metadata": {},
   "outputs": [],
   "source": [
    "sum_list = []\n",
    "cross_list = cross_list[1:]\n",
    "\n",
    "for i in cross_list:\n",
    "    sum_list.append(cross_training_df[i].sum())"
   ]
  },
  {
   "cell_type": "code",
   "execution_count": 77,
   "metadata": {},
   "outputs": [],
   "source": [
    "cross_sum_df = pd.DataFrame(list(zip(cross_list,sum_list)),columns=['Cross Training','Sum']).sort_values(by='Sum',ascending=False)"
   ]
  },
  {
   "cell_type": "markdown",
   "metadata": {},
   "source": [
    "#### Running Club or Coach"
   ]
  },
  {
   "cell_type": "code",
   "execution_count": 79,
   "metadata": {},
   "outputs": [],
   "source": [
    "df['Running Club or Coach'] = df['Running Club or Coach'].replace({'n':False,'N':False,'y':True,'Y':True})"
   ]
  },
  {
   "cell_type": "markdown",
   "metadata": {},
   "source": [
    "## Analysis"
   ]
  },
  {
   "cell_type": "markdown",
   "metadata": {},
   "source": [
    "### Physical Characteristics"
   ]
  },
  {
   "cell_type": "markdown",
   "metadata": {},
   "source": [
    "#### Gender"
   ]
  },
  {
   "cell_type": "code",
   "execution_count": 80,
   "metadata": {},
   "outputs": [
    {
     "data": {
      "text/plain": [
       "<AxesSubplot:xlabel='Sex', ylabel='count'>"
      ]
     },
     "execution_count": 80,
     "metadata": {},
     "output_type": "execute_result"
    },
    {
     "data": {
      "image/png": "[encoded data removed]",
      "text/plain": [
       "<Figure size 432x288 with 1 Axes>"
      ]
     },
     "metadata": {},
     "output_type": "display_data"
    }
   ],
   "source": [
    "sns.countplot(data=df,x='Sex')"
   ]
  },
  {
   "cell_type": "code",
   "execution_count": 81,
   "metadata": {},
   "outputs": [],
   "source": [
    "male_count = df[df['Sex'] == 'Male']['Sex'].count().round(0)\n",
    "male_per = male_count / df['Sex'].size\n",
    "female_count = df[df['Sex'] == 'Female']['Sex'].count()\n",
    "female_per = female_count / df['Sex'].size\n",
    "\n",
    "sex_df = pd.DataFrame(data={'':['Total','Percent'],'Male':[male_count,male_per],'Female':[female_count,female_per]})"
   ]
  },
  {
   "cell_type": "code",
   "execution_count": 82,
   "metadata": {},
   "outputs": [
    {
     "data": {
      "text/html": [
       "<div>\n",
       "<style scoped>\n",
       "    .dataframe tbody tr th:only-of-type {\n",
       "        vertical-align: middle;\n",
       "    }\n",
       "\n",
       "    .dataframe tbody tr th {\n",
       "        vertical-align: top;\n",
       "    }\n",
       "\n",
       "    .dataframe thead th {\n",
       "        text-align: right;\n",
       "    }\n",
       "</style>\n",
       "<table border=\"1\" class=\"dataframe\">\n",
       "  <thead>\n",
       "    <tr style=\"text-align: right;\">\n",
       "      <th></th>\n",
       "      <th></th>\n",
       "      <th>Male</th>\n",
       "      <th>Female</th>\n",
       "    </tr>\n",
       "  </thead>\n",
       "  <tbody>\n",
       "    <tr>\n",
       "      <th>0</th>\n",
       "      <td>Total</td>\n",
       "      <td>290.000000</td>\n",
       "      <td>86.000000</td>\n",
       "    </tr>\n",
       "    <tr>\n",
       "      <th>1</th>\n",
       "      <td>Percent</td>\n",
       "      <td>0.771277</td>\n",
       "      <td>0.228723</td>\n",
       "    </tr>\n",
       "  </tbody>\n",
       "</table>\n",
       "</div>"
      ],
      "text/plain": [
       "                  Male     Female\n",
       "0    Total  290.000000  86.000000\n",
       "1  Percent    0.771277   0.228723"
      ]
     },
     "execution_count": 82,
     "metadata": {},
     "output_type": "execute_result"
    }
   ],
   "source": [
    "sex_df"
   ]
  },
  {
   "cell_type": "markdown",
   "metadata": {},
   "source": [
    "#### Age"
   ]
  },
  {
   "cell_type": "code",
   "execution_count": 83,
   "metadata": {},
   "outputs": [
    {
     "data": {
      "text/plain": [
       "<AxesSubplot:xlabel='Age', ylabel='Count'>"
      ]
     },
     "execution_count": 83,
     "metadata": {},
     "output_type": "execute_result"
    },
    {
     "data": {
      "image/png": "[encoded data removed]",
      "text/plain": [
       "<Figure size 432x288 with 1 Axes>"
      ]
     },
     "metadata": {},
     "output_type": "display_data"
    }
   ],
   "source": [
    "sns.histplot(data=df,x='Age',bins=20)"
   ]
  },
  {
   "cell_type": "markdown",
   "metadata": {},
   "source": [
    "#### Height"
   ]
  },
  {
   "cell_type": "code",
   "execution_count": 84,
   "metadata": {},
   "outputs": [
    {
     "data": {
      "text/plain": [
       "<AxesSubplot:xlabel='Height', ylabel='Weight'>"
      ]
     },
     "execution_count": 84,
     "metadata": {},
     "output_type": "execute_result"
    },
    {
     "data": {
      "image/png": "[encoded data removed]",
      "text/plain": [
       "<Figure size 432x288 with 1 Axes>"
      ]
     },
     "metadata": {},
     "output_type": "display_data"
    }
   ],
   "source": [
    "sns.scatterplot(data=df,x='Height',y='Weight')"
   ]
  },
  {
   "cell_type": "code",
   "execution_count": 85,
   "metadata": {},
   "outputs": [
    {
     "data": {
      "text/plain": [
       "<AxesSubplot:xlabel='BMI', ylabel='Height'>"
      ]
     },
     "execution_count": 85,
     "metadata": {},
     "output_type": "execute_result"
    },
    {
     "data": {
      "image/png": "[encoded data removed]",
      "text/plain": [
       "<Figure size 432x288 with 1 Axes>"
      ]
     },
     "metadata": {},
     "output_type": "display_data"
    }
   ],
   "source": [
    "sns.scatterplot(data=df,x='BMI',y='Height')"
   ]
  },
  {
   "cell_type": "code",
   "execution_count": 86,
   "metadata": {},
   "outputs": [
    {
     "data": {
      "text/plain": [
       "<AxesSubplot:xlabel='BMI', ylabel='Weight'>"
      ]
     },
     "execution_count": 86,
     "metadata": {},
     "output_type": "execute_result"
    },
    {
     "data": {
      "image/png": "[encoded data removed]",
      "text/plain": [
       "<Figure size 432x288 with 1 Axes>"
      ]
     },
     "metadata": {},
     "output_type": "display_data"
    }
   ],
   "source": [
    "sns.scatterplot(data=df,x='BMI',y='Weight')"
   ]
  },
  {
   "cell_type": "markdown",
   "metadata": {},
   "source": [
    "### Training"
   ]
  },
  {
   "cell_type": "markdown",
   "metadata": {},
   "source": [
    "#### Years Running"
   ]
  },
  {
   "cell_type": "code",
   "execution_count": 88,
   "metadata": {},
   "outputs": [
    {
     "data": {
      "text/plain": [
       "<AxesSubplot:xlabel='Years Running', ylabel='Count'>"
      ]
     },
     "execution_count": 88,
     "metadata": {},
     "output_type": "execute_result"
    },
    {
     "data": {
      "image/png": "[encoded data removed]",
      "text/plain": [
       "<Figure size 432x288 with 1 Axes>"
      ]
     },
     "metadata": {},
     "output_type": "display_data"
    }
   ],
   "source": [
    "sns.histplot(data=df,x='Years Running')"
   ]
  },
  {
   "cell_type": "code",
   "execution_count": 89,
   "metadata": {},
   "outputs": [
    {
     "data": {
      "text/plain": [
       "<AxesSubplot:xlabel='Years Running', ylabel='Count'>"
      ]
     },
     "execution_count": 89,
     "metadata": {},
     "output_type": "execute_result"
    },
    {
     "data": {
      "image/png": "[encoded data removed]",
      "text/plain": [
       "<Figure size 432x288 with 1 Axes>"
      ]
     },
     "metadata": {},
     "output_type": "display_data"
    }
   ],
   "source": [
    "sns.histplot(data=df[df['Years Running']<10],x='Years Running')"
   ]
  },
  {
   "cell_type": "markdown",
   "metadata": {},
   "source": [
    "#### Lifetime Mileage"
   ]
  },
  {
   "cell_type": "code",
   "execution_count": 90,
   "metadata": {},
   "outputs": [
    {
     "data": {
      "text/plain": [
       "<AxesSubplot:xlabel='Lifetime Mileage', ylabel='Count'>"
      ]
     },
     "execution_count": 90,
     "metadata": {},
     "output_type": "execute_result"
    },
    {
     "data": {
      "image/png": "[encoded data removed]",
      "text/plain": [
       "<Figure size 432x288 with 1 Axes>"
      ]
     },
     "metadata": {},
     "output_type": "display_data"
    }
   ],
   "source": [
    "sns.histplot(data=df,x='Lifetime Mileage')"
   ]
  },
  {
   "cell_type": "code",
   "execution_count": 110,
   "metadata": {},
   "outputs": [
    {
     "data": {
      "text/plain": [
       "<AxesSubplot:xlabel='Lifetime Mileage', ylabel='Count'>"
      ]
     },
     "execution_count": 110,
     "metadata": {},
     "output_type": "execute_result"
    },
    {
     "data": {
      "image/png": "[encoded data removed]",
      "text/plain": [
       "<Figure size 432x288 with 1 Axes>"
      ]
     },
     "metadata": {},
     "output_type": "display_data"
    }
   ],
   "source": [
    "sns.histplot(data=df[df['Lifetime Mileage'] < 60000],x='Lifetime Mileage',bins = 40)"
   ]
  },
  {
   "cell_type": "code",
   "execution_count": 91,
   "metadata": {},
   "outputs": [
    {
     "data": {
      "text/plain": [
       "<AxesSubplot:xlabel='Lifetime Mileage', ylabel='Years Running'>"
      ]
     },
     "execution_count": 91,
     "metadata": {},
     "output_type": "execute_result"
    },
    {
     "data": {
      "image/png": "[encoded data removed]",
      "text/plain": [
       "<Figure size 432x288 with 1 Axes>"
      ]
     },
     "metadata": {},
     "output_type": "display_data"
    }
   ],
   "source": [
    "sns.scatterplot(data=df,x='Lifetime Mileage',y='Years Running')"
   ]
  },
  {
   "cell_type": "code",
   "execution_count": 92,
   "metadata": {},
   "outputs": [
    {
     "data": {
      "text/plain": [
       "<AxesSubplot:xlabel='Lifetime Mileage', ylabel='Years Running'>"
      ]
     },
     "execution_count": 92,
     "metadata": {},
     "output_type": "execute_result"
    },
    {
     "data": {
      "image/png": "[encoded data removed]",
      "text/plain": [
       "<Figure size 432x288 with 1 Axes>"
      ]
     },
     "metadata": {},
     "output_type": "display_data"
    }
   ],
   "source": [
    "sns.scatterplot(data=df[(df['Years Running'] >= 3) & (df['Years Running'] <= 10)],x='Lifetime Mileage',y='Years Running')"
   ]
  },
  {
   "cell_type": "markdown",
   "metadata": {},
   "source": [
    "#### Year Mileage"
   ]
  },
  {
   "cell_type": "code",
   "execution_count": 111,
   "metadata": {},
   "outputs": [
    {
     "data": {
      "text/plain": [
       "<AxesSubplot:xlabel='Year Mileage', ylabel='Count'>"
      ]
     },
     "execution_count": 111,
     "metadata": {},
     "output_type": "execute_result"
    },
    {
     "data": {
      "image/png": "[encoded data removed]",
      "text/plain": [
       "<Figure size 432x288 with 1 Axes>"
      ]
     },
     "metadata": {},
     "output_type": "display_data"
    }
   ],
   "source": [
    "sns.histplot(data=df,x='Year Mileage',bins=20)"
   ]
  },
  {
   "cell_type": "markdown",
   "metadata": {},
   "source": [
    "#### Amount of Races"
   ]
  },
  {
   "cell_type": "code",
   "execution_count": 94,
   "metadata": {},
   "outputs": [
    {
     "data": {
      "text/plain": [
       "<AxesSubplot:xlabel='Amount of Races', ylabel='Count'>"
      ]
     },
     "execution_count": 94,
     "metadata": {},
     "output_type": "execute_result"
    },
    {
     "data": {
      "image/png": "[encoded data removed]",
      "text/plain": [
       "<Figure size 432x288 with 1 Axes>"
      ]
     },
     "metadata": {},
     "output_type": "display_data"
    }
   ],
   "source": [
    "sns.histplot(data=df,x='Amount of Races')"
   ]
  },
  {
   "cell_type": "markdown",
   "metadata": {},
   "source": [
    "#### Running Program"
   ]
  },
  {
   "cell_type": "code",
   "execution_count": 95,
   "metadata": {},
   "outputs": [
    {
     "data": {
      "text/plain": [
       "<AxesSubplot:xlabel='Running Program', ylabel='count'>"
      ]
     },
     "execution_count": 95,
     "metadata": {},
     "output_type": "execute_result"
    },
    {
     "data": {
      "image/png": "[encoded data removed]",
      "text/plain": [
       "<Figure size 432x288 with 1 Axes>"
      ]
     },
     "metadata": {},
     "output_type": "display_data"
    }
   ],
   "source": [
    "sns.countplot(data=df,x='Running Program')"
   ]
  },
  {
   "cell_type": "code",
   "execution_count": 96,
   "metadata": {},
   "outputs": [
    {
     "data": {
      "text/plain": [
       "<AxesSubplot:xlabel='Running Program Used', ylabel='count'>"
      ]
     },
     "execution_count": 96,
     "metadata": {},
     "output_type": "execute_result"
    },
    {
     "data": {
      "image/png": "[encoded data removed]",
      "text/plain": [
       "<Figure size 864x576 with 1 Axes>"
      ]
     },
     "metadata": {},
     "output_type": "display_data"
    }
   ],
   "source": [
    "plt.figure(figsize=(12,8))\n",
    "sns.countplot(data=run_program_df,x='Running Program Used',order=run_program_df['Running Program Used'].value_counts().iloc[:10].index)"
   ]
  },
  {
   "cell_type": "markdown",
   "metadata": {},
   "source": [
    "#### Speed Work"
   ]
  },
  {
   "cell_type": "code",
   "execution_count": 97,
   "metadata": {},
   "outputs": [
    {
     "data": {
      "text/plain": [
       "<AxesSubplot:xlabel='Speed Work', ylabel='count'>"
      ]
     },
     "execution_count": 97,
     "metadata": {},
     "output_type": "execute_result"
    },
    {
     "data": {
      "image/png": "[encoded data removed]",
      "text/plain": [
       "<Figure size 432x288 with 1 Axes>"
      ]
     },
     "metadata": {},
     "output_type": "display_data"
    }
   ],
   "source": [
    "sns.countplot(data=df,x='Speed Work')"
   ]
  },
  {
   "cell_type": "code",
   "execution_count": 98,
   "metadata": {},
   "outputs": [
    {
     "data": {
      "text/plain": [
       "<AxesSubplot:xlabel='Speed Work', ylabel='Sum'>"
      ]
     },
     "execution_count": 98,
     "metadata": {},
     "output_type": "execute_result"
    },
    {
     "data": {
      "image/png": "[encoded data removed]",
      "text/plain": [
       "<Figure size 1008x576 with 1 Axes>"
      ]
     },
     "metadata": {},
     "output_type": "display_data"
    }
   ],
   "source": [
    "plt.figure(figsize=(14,8))\n",
    "sns.barplot(data=speed_sum_df,x='Speed Work',y='Sum',order=speed_sum_df['Speed Work'])"
   ]
  },
  {
   "cell_type": "markdown",
   "metadata": {},
   "source": [
    "#### Cross Training"
   ]
  },
  {
   "cell_type": "code",
   "execution_count": 99,
   "metadata": {},
   "outputs": [
    {
     "data": {
      "text/plain": [
       "<AxesSubplot:xlabel='Cross Training', ylabel='count'>"
      ]
     },
     "execution_count": 99,
     "metadata": {},
     "output_type": "execute_result"
    },
    {
     "data": {
      "image/png": "[encoded data removed]",
      "text/plain": [
       "<Figure size 432x288 with 1 Axes>"
      ]
     },
     "metadata": {},
     "output_type": "display_data"
    }
   ],
   "source": [
    "sns.countplot(data=df,x='Cross Training')"
   ]
  },
  {
   "cell_type": "code",
   "execution_count": 100,
   "metadata": {},
   "outputs": [
    {
     "data": {
      "text/plain": [
       "<AxesSubplot:xlabel='Cross Training', ylabel='Sum'>"
      ]
     },
     "execution_count": 100,
     "metadata": {},
     "output_type": "execute_result"
    },
    {
     "data": {
      "image/png": "[encoded data removed]",
      "text/plain": [
       "<Figure size 864x576 with 1 Axes>"
      ]
     },
     "metadata": {},
     "output_type": "display_data"
    }
   ],
   "source": [
    "plt.figure(figsize=(12,8))\n",
    "sns.barplot(data=cross_sum_df,x='Cross Training',y='Sum',order=cross_sum_df['Cross Training'].iloc[:10])"
   ]
  },
  {
   "cell_type": "markdown",
   "metadata": {},
   "source": [
    "#### Running Club or Coach"
   ]
  },
  {
   "cell_type": "code",
   "execution_count": 101,
   "metadata": {},
   "outputs": [
    {
     "data": {
      "text/plain": [
       "<AxesSubplot:xlabel='Running Club or Coach', ylabel='count'>"
      ]
     },
     "execution_count": 101,
     "metadata": {},
     "output_type": "execute_result"
    },
    {
     "data": {
      "image/png": "[encoded data removed]",
      "text/plain": [
       "<Figure size 432x288 with 1 Axes>"
      ]
     },
     "metadata": {},
     "output_type": "display_data"
    }
   ],
   "source": [
    "sns.countplot(data=df,x='Running Club or Coach')"
   ]
  }
 ],
 "metadata": {
  "kernelspec": {
   "display_name": "Python 3",
   "language": "python",
   "name": "python3"
  },
  "language_info": {
   "codemirror_mode": {
    "name": "ipython",
    "version": 3
   },
   "file_extension": ".py",
   "mimetype": "text/x-python",
   "name": "python",
   "nbconvert_exporter": "python",
   "pygments_lexer": "ipython3",
   "version": "3.7.6"
  }
 },
 "nbformat": 4,
 "nbformat_minor": 4
}
